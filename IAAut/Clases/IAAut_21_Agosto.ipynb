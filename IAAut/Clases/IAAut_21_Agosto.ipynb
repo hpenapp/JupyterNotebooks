{
  "nbformat": 4,
  "nbformat_minor": 0,
  "metadata": {
    "colab": {
      "name": "IAAut 14 Agosto.ipynb",
      "provenance": []
    },
    "kernelspec": {
      "name": "python3",
      "display_name": "Python 3"
    },
    "language_info": {
      "name": "python"
    }
  },
  "cells": [
    {
      "cell_type": "markdown",
      "metadata": {
        "id": "HZAZ9wcBtJBO"
      },
      "source": [
        "# Lista de clase"
      ]
    },
    {
      "cell_type": "code",
      "metadata": {
        "id": "A2m7NfWjtnfm"
      },
      "source": [
        "import pandas as pd\n",
        "data = pd.read_excel(\"IAAut 14 Agostocsv.xlsx\")"
      ],
      "execution_count": null,
      "outputs": []
    },
    {
      "cell_type": "code",
      "metadata": {
        "colab": {
          "base_uri": "https://localhost:8080/"
        },
        "id": "eYGwtDN3ujk7",
        "outputId": "b26425fe-1c17-4563-91d6-842ecf061410"
      },
      "source": [
        "data.shape"
      ],
      "execution_count": null,
      "outputs": [
        {
          "output_type": "execute_result",
          "data": {
            "text/plain": [
              "(34, 3)"
            ]
          },
          "metadata": {
            "tags": []
          },
          "execution_count": 10
        }
      ]
    },
    {
      "cell_type": "code",
      "metadata": {
        "colab": {
          "base_uri": "https://localhost:8080/"
        },
        "id": "0g5UJMyQu1Uu",
        "outputId": "7ff4453d-ae82-48df-a337-5abe4b534819"
      },
      "source": [
        "data.columns"
      ],
      "execution_count": null,
      "outputs": [
        {
          "output_type": "execute_result",
          "data": {
            "text/plain": [
              "Index(['Nombre completo', 'Acción del usuario', 'Marca de tiempo'], dtype='object')"
            ]
          },
          "metadata": {
            "tags": []
          },
          "execution_count": 11
        }
      ]
    },
    {
      "cell_type": "code",
      "metadata": {
        "colab": {
          "base_uri": "https://localhost:8080/"
        },
        "id": "dcT514mJu5cw",
        "outputId": "d337a601-81e5-4ab7-df63-aa0777119820"
      },
      "source": [
        "data['Nombre completo']"
      ],
      "execution_count": null,
      "outputs": [
        {
          "output_type": "execute_result",
          "data": {
            "text/plain": [
              "0        ANGEL ADRIAN DOMINGUEZ LOZANO\n",
              "1           FATIMA DANIELA LOZOYA LEAL\n",
              "2        JARED EVANDER FUENTES SANCHEZ\n",
              "3      ALBERTO NATANAEL SANCHEZ ROBLES\n",
              "4     EDUARDO ALAN HERNANDEZ VILLASANA\n",
              "5           ANDRIK DE LA CRUZ MARTÍNEZ\n",
              "6           JUAN DANIEL MORON GUAJARDO\n",
              "7               SUSANA ENRIQUEZ GODINA\n",
              "8              EDSON YAEL GARCÍA SILVA\n",
              "9              EDSON YAEL GARCÍA SILVA\n",
              "10             EDSON YAEL GARCÍA SILVA\n",
              "11       SEBASTIAN TERRAZAS SANTILLANA\n",
              "12                 VICENTE GARZA REYNA\n",
              "13           RAMSES FERNANDO PENA ROJO\n",
              "14           MARIO EDUARDO LARA LOREDO\n",
              "15       JOSE RAUL EVANGELISTA MENDOZA\n",
              "16    ROBERTO CARLOS RANGEL MONTENEGRO\n",
              "17         IAN MAURICIO SAUCEDO ALEMAN\n",
              "18          SEBASTIAN IBARRA RODRIGUEZ\n",
              "19            JOSE SANTOS FLORES SILVA\n",
              "20            JOSE SANTOS FLORES SILVA\n",
              "21            JOSE SANTOS FLORES SILVA\n",
              "22           ALEXIS DARIEN ZUÑIGA VERA\n",
              "23        JOHAN JEFTE RODRIGUEZ SANTOS\n",
              "24       JOSE FRANCISCO GONGORA RANGEL\n",
              "25      ENRIQUE ANDRES CHAVEZ MARTINEZ\n",
              "26      ENRIQUE ANDRES CHAVEZ MARTINEZ\n",
              "27      ENRIQUE ANDRES CHAVEZ MARTINEZ\n",
              "28         SOFIA ALEJANDRA GAYTAN DIAZ\n",
              "29          HUMBERTO GERARDO PEÑA PAEZ\n",
              "30         LEONARDO ROMAN SAENZ FLORES\n",
              "31           LAURA MAYTE MIRELES GARZA\n",
              "32        MARCO ANTONIO VAZQUEZ RIVERA\n",
              "33    MIGUEL ALEJANDRO RODRIGUEZ ROCHA\n",
              "Name: Nombre completo, dtype: object"
            ]
          },
          "metadata": {
            "tags": []
          },
          "execution_count": 12
        }
      ]
    },
    {
      "cell_type": "code",
      "metadata": {
        "colab": {
          "base_uri": "https://localhost:8080/"
        },
        "id": "sRaxRU8Nuusp",
        "outputId": "11f3e054-f9c8-472d-81ec-d725669e6402"
      },
      "source": [
        "data['Nombre completo'].str.contains(\"ANGEL\")"
      ],
      "execution_count": null,
      "outputs": [
        {
          "output_type": "execute_result",
          "data": {
            "text/plain": [
              "0      True\n",
              "1     False\n",
              "2     False\n",
              "3     False\n",
              "4     False\n",
              "5     False\n",
              "6     False\n",
              "7     False\n",
              "8     False\n",
              "9     False\n",
              "10    False\n",
              "11    False\n",
              "12    False\n",
              "13    False\n",
              "14    False\n",
              "15     True\n",
              "16     True\n",
              "17    False\n",
              "18    False\n",
              "19    False\n",
              "20    False\n",
              "21    False\n",
              "22    False\n",
              "23    False\n",
              "24     True\n",
              "25    False\n",
              "26    False\n",
              "27    False\n",
              "28    False\n",
              "29    False\n",
              "30    False\n",
              "31    False\n",
              "32    False\n",
              "33    False\n",
              "Name: Nombre completo, dtype: bool"
            ]
          },
          "metadata": {
            "tags": []
          },
          "execution_count": 13
        }
      ]
    },
    {
      "cell_type": "code",
      "metadata": {
        "colab": {
          "base_uri": "https://localhost:8080/",
          "height": 142
        },
        "id": "_Qs6a4cIvj7f",
        "outputId": "befb51b5-09f1-4fd2-b507-81e7af88fe35"
      },
      "source": [
        "lista_elementos=['a','b','c']\n",
        "otra_lista=[1,2,3]\n",
        "pd.DataFrame({'nombre_columna':lista_elementos,'otra_columna':otra_lista})"
      ],
      "execution_count": null,
      "outputs": [
        {
          "output_type": "execute_result",
          "data": {
            "text/html": [
              "<div>\n",
              "<style scoped>\n",
              "    .dataframe tbody tr th:only-of-type {\n",
              "        vertical-align: middle;\n",
              "    }\n",
              "\n",
              "    .dataframe tbody tr th {\n",
              "        vertical-align: top;\n",
              "    }\n",
              "\n",
              "    .dataframe thead th {\n",
              "        text-align: right;\n",
              "    }\n",
              "</style>\n",
              "<table border=\"1\" class=\"dataframe\">\n",
              "  <thead>\n",
              "    <tr style=\"text-align: right;\">\n",
              "      <th></th>\n",
              "      <th>nombre_columna</th>\n",
              "      <th>otra_columna</th>\n",
              "    </tr>\n",
              "  </thead>\n",
              "  <tbody>\n",
              "    <tr>\n",
              "      <th>0</th>\n",
              "      <td>a</td>\n",
              "      <td>1</td>\n",
              "    </tr>\n",
              "    <tr>\n",
              "      <th>1</th>\n",
              "      <td>b</td>\n",
              "      <td>2</td>\n",
              "    </tr>\n",
              "    <tr>\n",
              "      <th>2</th>\n",
              "      <td>c</td>\n",
              "      <td>3</td>\n",
              "    </tr>\n",
              "  </tbody>\n",
              "</table>\n",
              "</div>"
            ],
            "text/plain": [
              "  nombre_columna  otra_columna\n",
              "0              a             1\n",
              "1              b             2\n",
              "2              c             3"
            ]
          },
          "metadata": {
            "tags": []
          },
          "execution_count": 22
        }
      ]
    },
    {
      "cell_type": "code",
      "metadata": {
        "colab": {
          "base_uri": "https://localhost:8080/",
          "height": 886
        },
        "id": "lEAeQri1vCDH",
        "outputId": "819cf89e-ac1e-41d9-b499-b78f3a01ab7e"
      },
      "source": [
        "df_alumnos = pd.DataFrame({'Alumno': list(data[~data['Nombre completo'].str.contains(\"ANGEL ADRIAN\")]['Nombre completo'].unique())})\n",
        "df_alumnos"
      ],
      "execution_count": null,
      "outputs": [
        {
          "output_type": "execute_result",
          "data": {
            "text/html": [
              "<div>\n",
              "<style scoped>\n",
              "    .dataframe tbody tr th:only-of-type {\n",
              "        vertical-align: middle;\n",
              "    }\n",
              "\n",
              "    .dataframe tbody tr th {\n",
              "        vertical-align: top;\n",
              "    }\n",
              "\n",
              "    .dataframe thead th {\n",
              "        text-align: right;\n",
              "    }\n",
              "</style>\n",
              "<table border=\"1\" class=\"dataframe\">\n",
              "  <thead>\n",
              "    <tr style=\"text-align: right;\">\n",
              "      <th></th>\n",
              "      <th>Alumno</th>\n",
              "    </tr>\n",
              "  </thead>\n",
              "  <tbody>\n",
              "    <tr>\n",
              "      <th>0</th>\n",
              "      <td>FATIMA DANIELA LOZOYA LEAL</td>\n",
              "    </tr>\n",
              "    <tr>\n",
              "      <th>1</th>\n",
              "      <td>JARED EVANDER FUENTES SANCHEZ</td>\n",
              "    </tr>\n",
              "    <tr>\n",
              "      <th>2</th>\n",
              "      <td>ALBERTO NATANAEL SANCHEZ ROBLES</td>\n",
              "    </tr>\n",
              "    <tr>\n",
              "      <th>3</th>\n",
              "      <td>EDUARDO ALAN HERNANDEZ VILLASANA</td>\n",
              "    </tr>\n",
              "    <tr>\n",
              "      <th>4</th>\n",
              "      <td>ANDRIK DE LA CRUZ MARTÍNEZ</td>\n",
              "    </tr>\n",
              "    <tr>\n",
              "      <th>5</th>\n",
              "      <td>JUAN DANIEL MORON GUAJARDO</td>\n",
              "    </tr>\n",
              "    <tr>\n",
              "      <th>6</th>\n",
              "      <td>SUSANA ENRIQUEZ GODINA</td>\n",
              "    </tr>\n",
              "    <tr>\n",
              "      <th>7</th>\n",
              "      <td>EDSON YAEL GARCÍA SILVA</td>\n",
              "    </tr>\n",
              "    <tr>\n",
              "      <th>8</th>\n",
              "      <td>SEBASTIAN TERRAZAS SANTILLANA</td>\n",
              "    </tr>\n",
              "    <tr>\n",
              "      <th>9</th>\n",
              "      <td>VICENTE GARZA REYNA</td>\n",
              "    </tr>\n",
              "    <tr>\n",
              "      <th>10</th>\n",
              "      <td>RAMSES FERNANDO PENA ROJO</td>\n",
              "    </tr>\n",
              "    <tr>\n",
              "      <th>11</th>\n",
              "      <td>MARIO EDUARDO LARA LOREDO</td>\n",
              "    </tr>\n",
              "    <tr>\n",
              "      <th>12</th>\n",
              "      <td>JOSE RAUL EVANGELISTA MENDOZA</td>\n",
              "    </tr>\n",
              "    <tr>\n",
              "      <th>13</th>\n",
              "      <td>ROBERTO CARLOS RANGEL MONTENEGRO</td>\n",
              "    </tr>\n",
              "    <tr>\n",
              "      <th>14</th>\n",
              "      <td>IAN MAURICIO SAUCEDO ALEMAN</td>\n",
              "    </tr>\n",
              "    <tr>\n",
              "      <th>15</th>\n",
              "      <td>SEBASTIAN IBARRA RODRIGUEZ</td>\n",
              "    </tr>\n",
              "    <tr>\n",
              "      <th>16</th>\n",
              "      <td>JOSE SANTOS FLORES SILVA</td>\n",
              "    </tr>\n",
              "    <tr>\n",
              "      <th>17</th>\n",
              "      <td>ALEXIS DARIEN ZUÑIGA VERA</td>\n",
              "    </tr>\n",
              "    <tr>\n",
              "      <th>18</th>\n",
              "      <td>JOHAN JEFTE RODRIGUEZ SANTOS</td>\n",
              "    </tr>\n",
              "    <tr>\n",
              "      <th>19</th>\n",
              "      <td>JOSE FRANCISCO GONGORA RANGEL</td>\n",
              "    </tr>\n",
              "    <tr>\n",
              "      <th>20</th>\n",
              "      <td>ENRIQUE ANDRES CHAVEZ MARTINEZ</td>\n",
              "    </tr>\n",
              "    <tr>\n",
              "      <th>21</th>\n",
              "      <td>SOFIA ALEJANDRA GAYTAN DIAZ</td>\n",
              "    </tr>\n",
              "    <tr>\n",
              "      <th>22</th>\n",
              "      <td>HUMBERTO GERARDO PEÑA PAEZ</td>\n",
              "    </tr>\n",
              "    <tr>\n",
              "      <th>23</th>\n",
              "      <td>LEONARDO ROMAN SAENZ FLORES</td>\n",
              "    </tr>\n",
              "    <tr>\n",
              "      <th>24</th>\n",
              "      <td>LAURA MAYTE MIRELES GARZA</td>\n",
              "    </tr>\n",
              "    <tr>\n",
              "      <th>25</th>\n",
              "      <td>MARCO ANTONIO VAZQUEZ RIVERA</td>\n",
              "    </tr>\n",
              "    <tr>\n",
              "      <th>26</th>\n",
              "      <td>MIGUEL ALEJANDRO RODRIGUEZ ROCHA</td>\n",
              "    </tr>\n",
              "  </tbody>\n",
              "</table>\n",
              "</div>"
            ],
            "text/plain": [
              "                              Alumno\n",
              "0         FATIMA DANIELA LOZOYA LEAL\n",
              "1      JARED EVANDER FUENTES SANCHEZ\n",
              "2    ALBERTO NATANAEL SANCHEZ ROBLES\n",
              "3   EDUARDO ALAN HERNANDEZ VILLASANA\n",
              "4         ANDRIK DE LA CRUZ MARTÍNEZ\n",
              "5         JUAN DANIEL MORON GUAJARDO\n",
              "6             SUSANA ENRIQUEZ GODINA\n",
              "7            EDSON YAEL GARCÍA SILVA\n",
              "8      SEBASTIAN TERRAZAS SANTILLANA\n",
              "9                VICENTE GARZA REYNA\n",
              "10         RAMSES FERNANDO PENA ROJO\n",
              "11         MARIO EDUARDO LARA LOREDO\n",
              "12     JOSE RAUL EVANGELISTA MENDOZA\n",
              "13  ROBERTO CARLOS RANGEL MONTENEGRO\n",
              "14       IAN MAURICIO SAUCEDO ALEMAN\n",
              "15        SEBASTIAN IBARRA RODRIGUEZ\n",
              "16          JOSE SANTOS FLORES SILVA\n",
              "17         ALEXIS DARIEN ZUÑIGA VERA\n",
              "18      JOHAN JEFTE RODRIGUEZ SANTOS\n",
              "19     JOSE FRANCISCO GONGORA RANGEL\n",
              "20    ENRIQUE ANDRES CHAVEZ MARTINEZ\n",
              "21       SOFIA ALEJANDRA GAYTAN DIAZ\n",
              "22        HUMBERTO GERARDO PEÑA PAEZ\n",
              "23       LEONARDO ROMAN SAENZ FLORES\n",
              "24         LAURA MAYTE MIRELES GARZA\n",
              "25      MARCO ANTONIO VAZQUEZ RIVERA\n",
              "26  MIGUEL ALEJANDRO RODRIGUEZ ROCHA"
            ]
          },
          "metadata": {
            "tags": []
          },
          "execution_count": 25
        }
      ]
    },
    {
      "cell_type": "code",
      "metadata": {
        "colab": {
          "base_uri": "https://localhost:8080/"
        },
        "id": "iLx36MluwKhm",
        "outputId": "e573cf30-1472-4fb2-8aa4-b5bf2318b2b9"
      },
      "source": [
        "len(df_alumnos)"
      ],
      "execution_count": null,
      "outputs": [
        {
          "output_type": "execute_result",
          "data": {
            "text/plain": [
              "27"
            ]
          },
          "metadata": {
            "tags": []
          },
          "execution_count": 31
        }
      ]
    },
    {
      "cell_type": "code",
      "metadata": {
        "colab": {
          "base_uri": "https://localhost:8080/",
          "height": 886
        },
        "id": "8BnEigfnwAkg",
        "outputId": "81589956-c12a-42ec-cea1-85d7826c9413"
      },
      "source": [
        "df_alumnos.sample(len(df_alumnos))"
      ],
      "execution_count": null,
      "outputs": [
        {
          "output_type": "execute_result",
          "data": {
            "text/html": [
              "<div>\n",
              "<style scoped>\n",
              "    .dataframe tbody tr th:only-of-type {\n",
              "        vertical-align: middle;\n",
              "    }\n",
              "\n",
              "    .dataframe tbody tr th {\n",
              "        vertical-align: top;\n",
              "    }\n",
              "\n",
              "    .dataframe thead th {\n",
              "        text-align: right;\n",
              "    }\n",
              "</style>\n",
              "<table border=\"1\" class=\"dataframe\">\n",
              "  <thead>\n",
              "    <tr style=\"text-align: right;\">\n",
              "      <th></th>\n",
              "      <th>Alumno</th>\n",
              "    </tr>\n",
              "  </thead>\n",
              "  <tbody>\n",
              "    <tr>\n",
              "      <th>17</th>\n",
              "      <td>ALEXIS DARIEN ZUÑIGA VERA</td>\n",
              "    </tr>\n",
              "    <tr>\n",
              "      <th>13</th>\n",
              "      <td>ROBERTO CARLOS RANGEL MONTENEGRO</td>\n",
              "    </tr>\n",
              "    <tr>\n",
              "      <th>10</th>\n",
              "      <td>RAMSES FERNANDO PENA ROJO</td>\n",
              "    </tr>\n",
              "    <tr>\n",
              "      <th>18</th>\n",
              "      <td>JOHAN JEFTE RODRIGUEZ SANTOS</td>\n",
              "    </tr>\n",
              "    <tr>\n",
              "      <th>14</th>\n",
              "      <td>IAN MAURICIO SAUCEDO ALEMAN</td>\n",
              "    </tr>\n",
              "    <tr>\n",
              "      <th>5</th>\n",
              "      <td>JUAN DANIEL MORON GUAJARDO</td>\n",
              "    </tr>\n",
              "    <tr>\n",
              "      <th>9</th>\n",
              "      <td>VICENTE GARZA REYNA</td>\n",
              "    </tr>\n",
              "    <tr>\n",
              "      <th>0</th>\n",
              "      <td>FATIMA DANIELA LOZOYA LEAL</td>\n",
              "    </tr>\n",
              "    <tr>\n",
              "      <th>7</th>\n",
              "      <td>EDSON YAEL GARCÍA SILVA</td>\n",
              "    </tr>\n",
              "    <tr>\n",
              "      <th>24</th>\n",
              "      <td>LAURA MAYTE MIRELES GARZA</td>\n",
              "    </tr>\n",
              "    <tr>\n",
              "      <th>25</th>\n",
              "      <td>MARCO ANTONIO VAZQUEZ RIVERA</td>\n",
              "    </tr>\n",
              "    <tr>\n",
              "      <th>19</th>\n",
              "      <td>JOSE FRANCISCO GONGORA RANGEL</td>\n",
              "    </tr>\n",
              "    <tr>\n",
              "      <th>16</th>\n",
              "      <td>JOSE SANTOS FLORES SILVA</td>\n",
              "    </tr>\n",
              "    <tr>\n",
              "      <th>3</th>\n",
              "      <td>EDUARDO ALAN HERNANDEZ VILLASANA</td>\n",
              "    </tr>\n",
              "    <tr>\n",
              "      <th>26</th>\n",
              "      <td>MIGUEL ALEJANDRO RODRIGUEZ ROCHA</td>\n",
              "    </tr>\n",
              "    <tr>\n",
              "      <th>1</th>\n",
              "      <td>JARED EVANDER FUENTES SANCHEZ</td>\n",
              "    </tr>\n",
              "    <tr>\n",
              "      <th>23</th>\n",
              "      <td>LEONARDO ROMAN SAENZ FLORES</td>\n",
              "    </tr>\n",
              "    <tr>\n",
              "      <th>11</th>\n",
              "      <td>MARIO EDUARDO LARA LOREDO</td>\n",
              "    </tr>\n",
              "    <tr>\n",
              "      <th>8</th>\n",
              "      <td>SEBASTIAN TERRAZAS SANTILLANA</td>\n",
              "    </tr>\n",
              "    <tr>\n",
              "      <th>4</th>\n",
              "      <td>ANDRIK DE LA CRUZ MARTÍNEZ</td>\n",
              "    </tr>\n",
              "    <tr>\n",
              "      <th>21</th>\n",
              "      <td>SOFIA ALEJANDRA GAYTAN DIAZ</td>\n",
              "    </tr>\n",
              "    <tr>\n",
              "      <th>22</th>\n",
              "      <td>HUMBERTO GERARDO PEÑA PAEZ</td>\n",
              "    </tr>\n",
              "    <tr>\n",
              "      <th>2</th>\n",
              "      <td>ALBERTO NATANAEL SANCHEZ ROBLES</td>\n",
              "    </tr>\n",
              "    <tr>\n",
              "      <th>15</th>\n",
              "      <td>SEBASTIAN IBARRA RODRIGUEZ</td>\n",
              "    </tr>\n",
              "    <tr>\n",
              "      <th>6</th>\n",
              "      <td>SUSANA ENRIQUEZ GODINA</td>\n",
              "    </tr>\n",
              "    <tr>\n",
              "      <th>20</th>\n",
              "      <td>ENRIQUE ANDRES CHAVEZ MARTINEZ</td>\n",
              "    </tr>\n",
              "    <tr>\n",
              "      <th>12</th>\n",
              "      <td>JOSE RAUL EVANGELISTA MENDOZA</td>\n",
              "    </tr>\n",
              "  </tbody>\n",
              "</table>\n",
              "</div>"
            ],
            "text/plain": [
              "                              Alumno\n",
              "17         ALEXIS DARIEN ZUÑIGA VERA\n",
              "13  ROBERTO CARLOS RANGEL MONTENEGRO\n",
              "10         RAMSES FERNANDO PENA ROJO\n",
              "18      JOHAN JEFTE RODRIGUEZ SANTOS\n",
              "14       IAN MAURICIO SAUCEDO ALEMAN\n",
              "5         JUAN DANIEL MORON GUAJARDO\n",
              "9                VICENTE GARZA REYNA\n",
              "0         FATIMA DANIELA LOZOYA LEAL\n",
              "7            EDSON YAEL GARCÍA SILVA\n",
              "24         LAURA MAYTE MIRELES GARZA\n",
              "25      MARCO ANTONIO VAZQUEZ RIVERA\n",
              "19     JOSE FRANCISCO GONGORA RANGEL\n",
              "16          JOSE SANTOS FLORES SILVA\n",
              "3   EDUARDO ALAN HERNANDEZ VILLASANA\n",
              "26  MIGUEL ALEJANDRO RODRIGUEZ ROCHA\n",
              "1      JARED EVANDER FUENTES SANCHEZ\n",
              "23       LEONARDO ROMAN SAENZ FLORES\n",
              "11         MARIO EDUARDO LARA LOREDO\n",
              "8      SEBASTIAN TERRAZAS SANTILLANA\n",
              "4         ANDRIK DE LA CRUZ MARTÍNEZ\n",
              "21       SOFIA ALEJANDRA GAYTAN DIAZ\n",
              "22        HUMBERTO GERARDO PEÑA PAEZ\n",
              "2    ALBERTO NATANAEL SANCHEZ ROBLES\n",
              "15        SEBASTIAN IBARRA RODRIGUEZ\n",
              "6             SUSANA ENRIQUEZ GODINA\n",
              "20    ENRIQUE ANDRES CHAVEZ MARTINEZ\n",
              "12     JOSE RAUL EVANGELISTA MENDOZA"
            ]
          },
          "metadata": {
            "tags": []
          },
          "execution_count": 45
        }
      ]
    },
    {
      "cell_type": "code",
      "metadata": {
        "colab": {
          "base_uri": "https://localhost:8080/",
          "height": 80
        },
        "id": "_-gjmEq5wklZ",
        "outputId": "8979832e-a193-4885-c947-54d6731ef8ee"
      },
      "source": [
        "df_alumnos.sample(1)"
      ],
      "execution_count": null,
      "outputs": [
        {
          "output_type": "execute_result",
          "data": {
            "text/html": [
              "<div>\n",
              "<style scoped>\n",
              "    .dataframe tbody tr th:only-of-type {\n",
              "        vertical-align: middle;\n",
              "    }\n",
              "\n",
              "    .dataframe tbody tr th {\n",
              "        vertical-align: top;\n",
              "    }\n",
              "\n",
              "    .dataframe thead th {\n",
              "        text-align: right;\n",
              "    }\n",
              "</style>\n",
              "<table border=\"1\" class=\"dataframe\">\n",
              "  <thead>\n",
              "    <tr style=\"text-align: right;\">\n",
              "      <th></th>\n",
              "      <th>Alumno</th>\n",
              "    </tr>\n",
              "  </thead>\n",
              "  <tbody>\n",
              "    <tr>\n",
              "      <th>19</th>\n",
              "      <td>JOSE FRANCISCO GONGORA RANGEL</td>\n",
              "    </tr>\n",
              "  </tbody>\n",
              "</table>\n",
              "</div>"
            ],
            "text/plain": [
              "                           Alumno\n",
              "19  JOSE FRANCISCO GONGORA RANGEL"
            ]
          },
          "metadata": {
            "tags": []
          },
          "execution_count": 69
        }
      ]
    },
    {
      "cell_type": "markdown",
      "metadata": {
        "id": "J0jp1ochtOiI"
      },
      "source": [
        "# Titanic"
      ]
    },
    {
      "cell_type": "code",
      "metadata": {
        "id": "nu390SGDs5-2"
      },
      "source": [
        "import pandas as pd"
      ],
      "execution_count": null,
      "outputs": []
    },
    {
      "cell_type": "code",
      "metadata": {
        "id": "yPxPgpWwtnUa"
      },
      "source": [
        "import os\n",
        "os.chdir(\"/content/drive/MyDrive/Cursos FCFM/Semestre Ago 21 - Dic 21/IAAut\")"
      ],
      "execution_count": null,
      "outputs": []
    },
    {
      "cell_type": "code",
      "metadata": {
        "colab": {
          "base_uri": "https://localhost:8080/"
        },
        "id": "XxWjIB9As_Gg",
        "outputId": "4655a823-2102-40cd-97db-959b3c55d657"
      },
      "source": [
        "os.listdir('Data/Titanic')"
      ],
      "execution_count": null,
      "outputs": [
        {
          "output_type": "execute_result",
          "data": {
            "text/plain": [
              "['gender_submission.csv', 'test.csv', 'train.csv']"
            ]
          },
          "metadata": {},
          "execution_count": 19
        }
      ]
    },
    {
      "cell_type": "code",
      "metadata": {
        "id": "LQ-e8ySRON7m"
      },
      "source": [
        "data_gender = pd.read_csv('Data/Titanic/gender_submission.csv')"
      ],
      "execution_count": null,
      "outputs": []
    },
    {
      "cell_type": "code",
      "metadata": {
        "id": "VrenVt3PFLJM"
      },
      "source": [
        "data_train = pd.read_csv(\"Data/Titanic/train.csv\")"
      ],
      "execution_count": null,
      "outputs": []
    },
    {
      "cell_type": "code",
      "metadata": {
        "id": "FqaOcbUcO0Bk"
      },
      "source": [
        "data_test = pd.read_csv(\"Data/Titanic/test.csv\")"
      ],
      "execution_count": null,
      "outputs": []
    },
    {
      "cell_type": "code",
      "metadata": {
        "colab": {
          "base_uri": "https://localhost:8080/"
        },
        "id": "zU9OpuOKO2yA",
        "outputId": "b6e4f644-a842-41cb-e21d-52f8d5a0f672"
      },
      "source": [
        "data_test.info()"
      ],
      "execution_count": null,
      "outputs": [
        {
          "output_type": "stream",
          "text": [
            "<class 'pandas.core.frame.DataFrame'>\n",
            "RangeIndex: 418 entries, 0 to 417\n",
            "Data columns (total 11 columns):\n",
            " #   Column       Non-Null Count  Dtype  \n",
            "---  ------       --------------  -----  \n",
            " 0   PassengerId  418 non-null    int64  \n",
            " 1   Pclass       418 non-null    int64  \n",
            " 2   Name         418 non-null    object \n",
            " 3   Sex          418 non-null    object \n",
            " 4   Age          332 non-null    float64\n",
            " 5   SibSp        418 non-null    int64  \n",
            " 6   Parch        418 non-null    int64  \n",
            " 7   Ticket       418 non-null    object \n",
            " 8   Fare         417 non-null    float64\n",
            " 9   Cabin        91 non-null     object \n",
            " 10  Embarked     418 non-null    object \n",
            "dtypes: float64(2), int64(4), object(5)\n",
            "memory usage: 36.0+ KB\n"
          ],
          "name": "stdout"
        }
      ]
    },
    {
      "cell_type": "code",
      "metadata": {
        "colab": {
          "base_uri": "https://localhost:8080/"
        },
        "id": "eEzATzjiOl0_",
        "outputId": "9c7c0653-4509-4c9b-9aa5-e3a057aaaa31"
      },
      "source": [
        "data_train.info()"
      ],
      "execution_count": null,
      "outputs": [
        {
          "output_type": "stream",
          "text": [
            "<class 'pandas.core.frame.DataFrame'>\n",
            "RangeIndex: 891 entries, 0 to 890\n",
            "Data columns (total 12 columns):\n",
            " #   Column       Non-Null Count  Dtype  \n",
            "---  ------       --------------  -----  \n",
            " 0   PassengerId  891 non-null    int64  \n",
            " 1   Survived     891 non-null    int64  \n",
            " 2   Pclass       891 non-null    int64  \n",
            " 3   Name         891 non-null    object \n",
            " 4   Sex          891 non-null    object \n",
            " 5   Age          714 non-null    float64\n",
            " 6   SibSp        891 non-null    int64  \n",
            " 7   Parch        891 non-null    int64  \n",
            " 8   Ticket       891 non-null    object \n",
            " 9   Fare         891 non-null    float64\n",
            " 10  Cabin        204 non-null    object \n",
            " 11  Embarked     889 non-null    object \n",
            "dtypes: float64(2), int64(5), object(5)\n",
            "memory usage: 83.7+ KB\n"
          ],
          "name": "stdout"
        }
      ]
    },
    {
      "cell_type": "code",
      "metadata": {
        "colab": {
          "base_uri": "https://localhost:8080/"
        },
        "id": "dsADxJdqOUHZ",
        "outputId": "93472b97-638e-45a6-8698-fff38c35d9b0"
      },
      "source": [
        "data_gender.info()"
      ],
      "execution_count": null,
      "outputs": [
        {
          "output_type": "stream",
          "text": [
            "<class 'pandas.core.frame.DataFrame'>\n",
            "RangeIndex: 418 entries, 0 to 417\n",
            "Data columns (total 2 columns):\n",
            " #   Column       Non-Null Count  Dtype\n",
            "---  ------       --------------  -----\n",
            " 0   PassengerId  418 non-null    int64\n",
            " 1   Survived     418 non-null    int64\n",
            "dtypes: int64(2)\n",
            "memory usage: 6.7 KB\n"
          ],
          "name": "stdout"
        }
      ]
    },
    {
      "cell_type": "code",
      "metadata": {
        "colab": {
          "base_uri": "https://localhost:8080/",
          "height": 205
        },
        "id": "UMgZUSVvtjKt",
        "outputId": "f6e0c963-a861-4c61-ae57-3668adddcc1d"
      },
      "source": [
        "data_train.head(5)"
      ],
      "execution_count": null,
      "outputs": [
        {
          "output_type": "execute_result",
          "data": {
            "text/html": [
              "<div>\n",
              "<style scoped>\n",
              "    .dataframe tbody tr th:only-of-type {\n",
              "        vertical-align: middle;\n",
              "    }\n",
              "\n",
              "    .dataframe tbody tr th {\n",
              "        vertical-align: top;\n",
              "    }\n",
              "\n",
              "    .dataframe thead th {\n",
              "        text-align: right;\n",
              "    }\n",
              "</style>\n",
              "<table border=\"1\" class=\"dataframe\">\n",
              "  <thead>\n",
              "    <tr style=\"text-align: right;\">\n",
              "      <th></th>\n",
              "      <th>PassengerId</th>\n",
              "      <th>Survived</th>\n",
              "      <th>Pclass</th>\n",
              "      <th>Name</th>\n",
              "      <th>Sex</th>\n",
              "      <th>Age</th>\n",
              "      <th>SibSp</th>\n",
              "      <th>Parch</th>\n",
              "      <th>Ticket</th>\n",
              "      <th>Fare</th>\n",
              "      <th>Cabin</th>\n",
              "      <th>Embarked</th>\n",
              "    </tr>\n",
              "  </thead>\n",
              "  <tbody>\n",
              "    <tr>\n",
              "      <th>0</th>\n",
              "      <td>1</td>\n",
              "      <td>0</td>\n",
              "      <td>3</td>\n",
              "      <td>Braund, Mr. Owen Harris</td>\n",
              "      <td>male</td>\n",
              "      <td>22.0</td>\n",
              "      <td>1</td>\n",
              "      <td>0</td>\n",
              "      <td>A/5 21171</td>\n",
              "      <td>7.2500</td>\n",
              "      <td>NaN</td>\n",
              "      <td>S</td>\n",
              "    </tr>\n",
              "    <tr>\n",
              "      <th>1</th>\n",
              "      <td>2</td>\n",
              "      <td>1</td>\n",
              "      <td>1</td>\n",
              "      <td>Cumings, Mrs. John Bradley (Florence Briggs Th...</td>\n",
              "      <td>female</td>\n",
              "      <td>38.0</td>\n",
              "      <td>1</td>\n",
              "      <td>0</td>\n",
              "      <td>PC 17599</td>\n",
              "      <td>71.2833</td>\n",
              "      <td>C85</td>\n",
              "      <td>C</td>\n",
              "    </tr>\n",
              "    <tr>\n",
              "      <th>2</th>\n",
              "      <td>3</td>\n",
              "      <td>1</td>\n",
              "      <td>3</td>\n",
              "      <td>Heikkinen, Miss. Laina</td>\n",
              "      <td>female</td>\n",
              "      <td>26.0</td>\n",
              "      <td>0</td>\n",
              "      <td>0</td>\n",
              "      <td>STON/O2. 3101282</td>\n",
              "      <td>7.9250</td>\n",
              "      <td>NaN</td>\n",
              "      <td>S</td>\n",
              "    </tr>\n",
              "    <tr>\n",
              "      <th>3</th>\n",
              "      <td>4</td>\n",
              "      <td>1</td>\n",
              "      <td>1</td>\n",
              "      <td>Futrelle, Mrs. Jacques Heath (Lily May Peel)</td>\n",
              "      <td>female</td>\n",
              "      <td>35.0</td>\n",
              "      <td>1</td>\n",
              "      <td>0</td>\n",
              "      <td>113803</td>\n",
              "      <td>53.1000</td>\n",
              "      <td>C123</td>\n",
              "      <td>S</td>\n",
              "    </tr>\n",
              "    <tr>\n",
              "      <th>4</th>\n",
              "      <td>5</td>\n",
              "      <td>0</td>\n",
              "      <td>3</td>\n",
              "      <td>Allen, Mr. William Henry</td>\n",
              "      <td>male</td>\n",
              "      <td>35.0</td>\n",
              "      <td>0</td>\n",
              "      <td>0</td>\n",
              "      <td>373450</td>\n",
              "      <td>8.0500</td>\n",
              "      <td>NaN</td>\n",
              "      <td>S</td>\n",
              "    </tr>\n",
              "  </tbody>\n",
              "</table>\n",
              "</div>"
            ],
            "text/plain": [
              "   PassengerId  Survived  Pclass  ...     Fare Cabin  Embarked\n",
              "0            1         0       3  ...   7.2500   NaN         S\n",
              "1            2         1       1  ...  71.2833   C85         C\n",
              "2            3         1       3  ...   7.9250   NaN         S\n",
              "3            4         1       1  ...  53.1000  C123         S\n",
              "4            5         0       3  ...   8.0500   NaN         S\n",
              "\n",
              "[5 rows x 12 columns]"
            ]
          },
          "metadata": {},
          "execution_count": 29
        }
      ]
    },
    {
      "cell_type": "code",
      "metadata": {
        "colab": {
          "base_uri": "https://localhost:8080/",
          "height": 283
        },
        "id": "8NkEIFRPPQ3d",
        "outputId": "d0fb7479-9104-4077-81ef-7f006467091d"
      },
      "source": [
        "data_train['Age'].plot()"
      ],
      "execution_count": null,
      "outputs": [
        {
          "output_type": "execute_result",
          "data": {
            "text/plain": [
              "<matplotlib.axes._subplots.AxesSubplot at 0x7f6828af19d0>"
            ]
          },
          "metadata": {},
          "execution_count": 30
        },
        {
          "output_type": "display_data",
          "data": {
            "image/png": "[encoded data removed]",
            "text/plain": [
              "<Figure size 432x288 with 1 Axes>"
            ]
          },
          "metadata": {
            "needs_background": "light"
          }
        }
      ]
    },
    {
      "cell_type": "code",
      "metadata": {
        "colab": {
          "base_uri": "https://localhost:8080/",
          "height": 292
        },
        "id": "03PDGu5uPlaG",
        "outputId": "152438d8-b88f-4400-f632-e1f844dda080"
      },
      "source": [
        "data_train['Age'].plot(kind='bar')"
      ],
      "execution_count": null,
      "outputs": [
        {
          "output_type": "execute_result",
          "data": {
            "text/plain": [
              "<matplotlib.axes._subplots.AxesSubplot at 0x7f68277b8590>"
            ]
          },
          "metadata": {},
          "execution_count": 33
        },
        {
          "output_type": "display_data",
          "data": {
            "image/png": "[encoded data removed]",
            "text/plain": [
              "<Figure size 432x288 with 1 Axes>"
            ]
          },
          "metadata": {
            "needs_background": "light"
          }
        }
      ]
    },
    {
      "cell_type": "code",
      "metadata": {
        "colab": {
          "base_uri": "https://localhost:8080/",
          "height": 283
        },
        "id": "gE-G0o-HNU75",
        "outputId": "90cf4bff-332d-45f5-cd26-cf3e980f8a74"
      },
      "source": [
        "data_train['Age'].plot(kind='hist')"
      ],
      "execution_count": null,
      "outputs": [
        {
          "output_type": "execute_result",
          "data": {
            "text/plain": [
              "<matplotlib.axes._subplots.AxesSubplot at 0x7f6844c49ad0>"
            ]
          },
          "metadata": {},
          "execution_count": 11
        },
        {
          "output_type": "display_data",
          "data": {
            "image/png": "[encoded data removed]",
            "text/plain": [
              "<Figure size 432x288 with 1 Axes>"
            ]
          },
          "metadata": {
            "needs_background": "light"
          }
        }
      ]
    },
    {
      "cell_type": "code",
      "metadata": {
        "id": "gwa5s1gVNamy"
      },
      "source": [
        "import seaborn as sns"
      ],
      "execution_count": null,
      "outputs": []
    },
    {
      "cell_type": "code",
      "metadata": {
        "colab": {
          "base_uri": "https://localhost:8080/",
          "height": 387
        },
        "id": "wvyh5q74NcAo",
        "outputId": "317dac67-b5f8-4945-fcdf-1ad366dd415e"
      },
      "source": [
        "# kde Kernel Density Estimation\n",
        "sns.displot(data_train,x='Age',hue='Sex',kind='hist')"
      ],
      "execution_count": null,
      "outputs": [
        {
          "output_type": "execute_result",
          "data": {
            "text/plain": [
              "<seaborn.axisgrid.FacetGrid at 0x7f6823e8cc90>"
            ]
          },
          "metadata": {},
          "execution_count": 38
        },
        {
          "output_type": "display_data",
          "data": {
            "image/png": "[encoded data removed]",
            "text/plain": [
              "<Figure size 430.5x360 with 1 Axes>"
            ]
          },
          "metadata": {
            "needs_background": "light"
          }
        }
      ]
    },
    {
      "cell_type": "code",
      "metadata": {
        "id": "Sdwi6PlVTbOy"
      },
      "source": [
        "!pip install plotly==2.4"
      ],
      "execution_count": null,
      "outputs": []
    },
    {
      "cell_type": "code",
      "metadata": {
        "id": "nBfFzizsNHRL"
      },
      "source": [
        "import plotly.express as px"
      ],
      "execution_count": null,
      "outputs": []
    },
    {
      "cell_type": "code",
      "metadata": {
        "id": "s4rRMRsTNTOU"
      },
      "source": [
        ""
      ],
      "execution_count": null,
      "outputs": []
    },
    {
      "cell_type": "code",
      "metadata": {
        "colab": {
          "base_uri": "https://localhost:8080/",
          "height": 542
        },
        "id": "277H9MHdNJaY",
        "outputId": "8323d2c9-20ac-4ec7-b7f3-2c79ca923da7"
      },
      "source": [
        "fig = px.histogram(data_train,x='Age',color='Sex')\n",
        "fig.write_html(\"grafica_edad.html\")\n",
        "fig.show()"
      ],
      "execution_count": null,
      "outputs": [
        {
          "output_type": "display_data",
          "data": {
            "text/html": [
              "<html>\n",
              "<head><meta charset=\"utf-8\" /></head>\n",
              "<body>\n",
              "    <div>\n",
              "            <script src=\"https://cdnjs.cloudflare.com/ajax/libs/mathjax/2.7.5/MathJax.js?config=TeX-AMS-MML_SVG\"></script><script type=\"text/javascript\">if (window.MathJax) {MathJax.Hub.Config({SVG: {font: \"STIX-Web\"}});}</script>\n",
              "                <script type=\"text/javascript\">window.PlotlyConfig = {MathJaxConfig: 'local'};</script>\n",
              "        <script src=\"https://cdn.plot.ly/plotly-latest.min.js\"></script>    \n",
              "            <div id=\"230f4b06-4a48-47fa-b9a5-2bde2d6aee64\" class=\"plotly-graph-div\" style=\"height:525px; width:100%;\"></div>\n",
              "            <script type=\"text/javascript\">\n",
              "                \n",
              "                    window.PLOTLYENV=window.PLOTLYENV || {};\n",
              "                    \n",
              "                if (document.getElementById(\"230f4b06-4a48-47fa-b9a5-2bde2d6aee64\")) {\n",
              "                    Plotly.newPlot(\n",
              "                        '230f4b06-4a48-47fa-b9a5-2bde2d6aee64',\n",
              "                        [{\"alignmentgroup\": \"True\", \"bingroup\": \"x\", \"hoverlabel\": {\"namelength\": 0}, \"hovertemplate\": \"Sex=male<br>Age=%{x}<br>count=%{y}\", \"legendgroup\": \"Sex=male\", \"marker\": {\"color\": \"#636efa\"}, \"name\": \"Sex=male\", \"offsetgroup\": \"Sex=male\", \"orientation\": \"v\", \"showlegend\": true, \"type\": \"histogram\", \"x\": [22.0, 35.0, null, 54.0, 2.0, 20.0, 39.0, 2.0, null, 35.0, 34.0, 28.0, null, 19.0, null, 40.0, 66.0, 28.0, 42.0, null, 21.0, null, null, null, null, 7.0, 21.0, 65.0, null, 28.5, 11.0, 22.0, 45.0, 4.0, null, null, 19.0, 26.0, 32.0, 21.0, 26.0, 32.0, 25.0, null, null, 0.83, 22.0, 29.0, 28.0, 16.0, null, 24.0, 29.0, 20.0, 46.0, 26.0, 59.0, null, 71.0, 23.0, 34.0, null, 21.0, 33.0, 37.0, 28.0, null, 38.0, 47.0, 22.0, 21.0, 70.5, 29.0, 24.0, 21.0, null, 32.5, 54.0, 12.0, null, 24.0, 45.0, 33.0, 20.0, 25.0, 23.0, 37.0, 16.0, 24.0, 19.0, 18.0, 19.0, 27.0, 36.5, 42.0, 51.0, 55.5, 40.5, null, 51.0, 30.0, null, null, 44.0, 26.0, 17.0, 1.0, 9.0, null, 28.0, 61.0, 4.0, 21.0, 56.0, 18.0, null, 30.0, 36.0, null, 9.0, 1.0, null, 45.0, 40.0, 36.0, 19.0, 3.0, null, 42.0, 28.0, null, 34.0, 45.5, 18.0, 32.0, 26.0, 40.0, 24.0, 22.0, 30.0, null, 42.0, 30.0, 16.0, 27.0, 51.0, null, 38.0, 22.0, 19.0, 20.5, 18.0, 29.0, 59.0, 24.0, 44.0, 19.0, 33.0, 29.0, 22.0, 30.0, 44.0, 37.0, 54.0, null, 62.0, 30.0, null, 3.0, 52.0, 40.0, 36.0, 16.0, 25.0, null, 25.0, 37.0, null, 7.0, 65.0, 28.0, 16.0, 19.0, null, 33.0, 30.0, 22.0, 42.0, 36.0, 24.0, null, 23.5, null, null, 19.0, null, 0.92, 30.0, 28.0, 43.0, 54.0, 22.0, 27.0, null, 61.0, 45.5, 38.0, 16.0, null, 29.0, 45.0, 45.0, 2.0, 28.0, 25.0, 36.0, 3.0, 42.0, 23.0, null, 15.0, 25.0, null, 28.0, 40.0, 29.0, 35.0, null, 30.0, 25.0, 18.0, 19.0, 22.0, 27.0, 20.0, 19.0, 32.0, null, 18.0, 1.0, null, 36.0, 21.0, 28.0, 22.0, 46.0, 23.0, 39.0, 26.0, 28.0, 34.0, 51.0, 3.0, 21.0, null, null, null, 44.0, 30.0, null, 21.0, 29.0, 18.0, null, null, 32.0, 28.0, 17.0, 50.0, 64.0, 31.0, 20.0, 25.0, null, 4.0, 34.0, 52.0, 36.0, null, 30.0, 49.0, null, 29.0, 65.0, null, 48.0, 34.0, 47.0, 48.0, null, 38.0, null, 56.0, null, null, 38.0, null, 34.0, 29.0, 22.0, 9.0, null, 50.0, 25.0, 58.0, 30.0, 9.0, null, 21.0, 55.0, 71.0, 21.0, null, null, 24.0, 17.0, 18.0, null, 28.0, 26.0, 29.0, null, 36.0, 24.0, 47.0, null, 32.0, 22.0, null, null, 40.5, null, 39.0, 23.0, null, 17.0, 45.0, null, 32.0, 50.0, 64.0, null, 33.0, 8.0, 17.0, 27.0, null, 22.0, 62.0, null, null, 40.0, 28.0, null, 24.0, 19.0, null, 32.0, 62.0, 36.0, 16.0, 19.0, 32.0, 54.0, 36.0, null, 47.0, 60.0, 22.0, null, 35.0, 47.0, 37.0, 36.0, 49.0, null, 49.0, null, null, 44.0, 35.0, 36.0, 30.0, 27.0, null, null, 35.0, 34.0, 26.0, 27.0, 42.0, 20.0, 21.0, 21.0, 61.0, 57.0, 26.0, null, 80.0, 51.0, 32.0, null, 32.0, 31.0, null, 20.0, null, 48.0, 19.0, 56.0, null, null, 21.0, 24.0, null, 23.0, 58.0, 50.0, 40.0, 47.0, 36.0, 20.0, 32.0, 25.0, null, 43.0, 31.0, 70.0, 31.0, null, 18.0, 24.5, 36.0, 27.0, 20.0, 14.0, 60.0, 25.0, 14.0, 19.0, 18.0, 31.0, null, 25.0, 60.0, 52.0, 44.0, 49.0, 42.0, 35.0, 25.0, 26.0, 39.0, 42.0, null, null, 48.0, 29.0, 52.0, 19.0, null, 33.0, 17.0, 34.0, 50.0, 27.0, 20.0, 25.0, 11.0, null, 23.0, 23.0, 28.5, 35.0, null, null, null, 36.0, 24.0, 31.0, 70.0, 16.0, 19.0, 31.0, 6.0, 33.0, 23.0, 0.67, 28.0, 18.0, 34.0, null, 41.0, 20.0, 16.0, null, null, 32.0, 24.0, 48.0, null, 18.0, null, null, 29.0, null, 25.0, 25.0, 8.0, 1.0, 46.0, null, 16.0, null, 25.0, 39.0, 30.0, 34.0, 11.0, 0.42, 27.0, 31.0, 39.0, 39.0, 26.0, 39.0, 35.0, 30.5, null, 31.0, 43.0, 10.0, 27.0, 38.0, 2.0, null, null, 1.0, null, 0.83, null, 23.0, 18.0, 21.0, null, 32.0, null, 20.0, 16.0, 34.5, 17.0, 42.0, null, 35.0, 28.0, 4.0, 74.0, 51.0, null, 41.0, 21.0, 24.0, 31.0, null, 4.0, 26.0, 33.0, 47.0, 20.0, 19.0, null, 33.0, 28.0, 25.0, 27.0, 26.0, 32.0], \"xaxis\": \"x\", \"yaxis\": \"y\"}, {\"alignmentgroup\": \"True\", \"bingroup\": \"x\", \"hoverlabel\": {\"namelength\": 0}, \"hovertemplate\": \"Sex=female<br>Age=%{x}<br>count=%{y}\", \"legendgroup\": \"Sex=female\", \"marker\": {\"color\": \"#EF553B\"}, \"name\": \"Sex=female\", \"offsetgroup\": \"Sex=female\", \"orientation\": \"v\", \"showlegend\": true, \"type\": \"histogram\", \"x\": [38.0, 26.0, 35.0, 27.0, 14.0, 4.0, 58.0, 14.0, 55.0, 31.0, null, 15.0, 8.0, 38.0, null, null, null, 18.0, 14.0, 40.0, 27.0, 3.0, 19.0, null, 18.0, 49.0, 29.0, 21.0, 5.0, 38.0, 29.0, 17.0, 16.0, 30.0, null, 17.0, 33.0, 23.0, 34.0, 28.0, 21.0, null, 14.5, 20.0, 17.0, 2.0, 32.5, null, 47.0, 29.0, 19.0, null, 22.0, 24.0, 9.0, 22.0, 16.0, 40.0, null, 45.0, 1.0, 50.0, null, 4.0, null, 32.0, 19.0, 44.0, 58.0, null, 24.0, 2.0, 16.0, 35.0, 31.0, 27.0, 32.0, null, 35.0, 5.0, null, 8.0, null, null, 25.0, 24.0, 29.0, 41.0, 29.0, null, 30.0, 35.0, 50.0, null, 58.0, 35.0, 41.0, null, 63.0, 45.0, 35.0, 22.0, 26.0, 19.0, 24.0, 2.0, 50.0, null, null, null, 17.0, 30.0, 24.0, 18.0, 26.0, 26.0, 24.0, 31.0, 40.0, 30.0, 22.0, 36.0, 36.0, 31.0, 16.0, null, null, 41.0, 24.0, 24.0, 40.0, null, 22.0, 38.0, null, null, 45.0, 60.0, null, null, 24.0, 3.0, null, 22.0, 42.0, 1.0, 35.0, 36.0, 17.0, 23.0, 24.0, 31.0, 28.0, 21.0, 20.0, null, 33.0, null, 34.0, 18.0, 10.0, 28.0, 28.0, 19.0, null, 42.0, 14.0, 21.0, 24.0, 45.0, 28.0, 13.0, 5.0, null, 50.0, 0.75, 33.0, 23.0, 22.0, 2.0, 63.0, null, 35.0, 54.0, 25.0, 21.0, null, 37.0, 16.0, 33.0, 54.0, 34.0, 36.0, 30.0, 44.0, 50.0, 2.0, null, 30.0, 7.0, 30.0, 22.0, 36.0, 9.0, 11.0, 19.0, 22.0, 48.0, 39.0, 36.0, null, 29.0, 53.0, null, 34.0, 39.0, null, 25.0, 39.0, 18.0, 52.0, null, null, 24.0, 22.0, 40.0, 39.0, null, 24.0, 26.0, 4.0, 21.0, 9.0, 28.0, 41.0, 24.0, 2.0, 0.75, 23.0, 18.0, null, 18.0, 32.0, null, 40.0, 18.0, 43.0, null, 15.0, 4.0, null, 18.0, 18.0, 45.0, 22.0, 24.0, 38.0, 27.0, 6.0, 30.0, null, 25.0, 29.0, 48.0, 21.0, 30.0, 4.0, 48.0, 33.0, 36.0, 51.0, 30.5, 57.0, 54.0, 5.0, 43.0, 13.0, 17.0, 18.0, null, 49.0, 31.0, 30.0, 31.0, 18.0, 33.0, 6.0, 23.0, 52.0, 27.0, 62.0, 15.0, 39.0, 30.0, null, 9.0, 16.0, 44.0, 18.0, 45.0, 24.0, 48.0, null, 42.0, 27.0, 47.0, 28.0, 15.0, 56.0, 25.0, 22.0, 39.0, 19.0, null], \"xaxis\": \"x\", \"yaxis\": \"y\"}],\n",
              "                        {\"barmode\": \"relative\", \"legend\": {\"tracegroupgap\": 0}, \"margin\": {\"t\": 60}, \"template\": {\"data\": {\"bar\": [{\"error_x\": {\"color\": \"#2a3f5f\"}, \"error_y\": {\"color\": \"#2a3f5f\"}, \"marker\": {\"line\": {\"color\": \"#E5ECF6\", \"width\": 0.5}}, \"type\": \"bar\"}], \"barpolar\": [{\"marker\": {\"line\": {\"color\": \"#E5ECF6\", \"width\": 0.5}}, \"type\": \"barpolar\"}], \"carpet\": [{\"aaxis\": {\"endlinecolor\": \"#2a3f5f\", \"gridcolor\": \"white\", \"linecolor\": \"white\", \"minorgridcolor\": \"white\", \"startlinecolor\": \"#2a3f5f\"}, \"baxis\": {\"endlinecolor\": \"#2a3f5f\", \"gridcolor\": \"white\", \"linecolor\": \"white\", \"minorgridcolor\": \"white\", \"startlinecolor\": \"#2a3f5f\"}, \"type\": \"carpet\"}], \"choropleth\": [{\"colorbar\": {\"outlinewidth\": 0, \"ticks\": \"\"}, \"type\": \"choropleth\"}], \"contour\": [{\"colorbar\": {\"outlinewidth\": 0, \"ticks\": \"\"}, \"colorscale\": [[0.0, \"#0d0887\"], [0.1111111111111111, \"#46039f\"], [0.2222222222222222, \"#7201a8\"], [0.3333333333333333, \"#9c179e\"], [0.4444444444444444, \"#bd3786\"], [0.5555555555555556, \"#d8576b\"], [0.6666666666666666, \"#ed7953\"], [0.7777777777777778, \"#fb9f3a\"], [0.8888888888888888, \"#fdca26\"], [1.0, \"#f0f921\"]], \"type\": \"contour\"}], \"contourcarpet\": [{\"colorbar\": {\"outlinewidth\": 0, \"ticks\": \"\"}, \"type\": \"contourcarpet\"}], \"heatmap\": [{\"colorbar\": {\"outlinewidth\": 0, \"ticks\": \"\"}, \"colorscale\": [[0.0, \"#0d0887\"], [0.1111111111111111, \"#46039f\"], [0.2222222222222222, \"#7201a8\"], [0.3333333333333333, \"#9c179e\"], [0.4444444444444444, \"#bd3786\"], [0.5555555555555556, \"#d8576b\"], [0.6666666666666666, \"#ed7953\"], [0.7777777777777778, \"#fb9f3a\"], [0.8888888888888888, \"#fdca26\"], [1.0, \"#f0f921\"]], \"type\": \"heatmap\"}], \"heatmapgl\": [{\"colorbar\": {\"outlinewidth\": 0, \"ticks\": \"\"}, \"colorscale\": [[0.0, \"#0d0887\"], [0.1111111111111111, \"#46039f\"], [0.2222222222222222, \"#7201a8\"], [0.3333333333333333, \"#9c179e\"], [0.4444444444444444, \"#bd3786\"], [0.5555555555555556, \"#d8576b\"], [0.6666666666666666, \"#ed7953\"], [0.7777777777777778, \"#fb9f3a\"], [0.8888888888888888, \"#fdca26\"], [1.0, \"#f0f921\"]], \"type\": \"heatmapgl\"}], \"histogram\": [{\"marker\": {\"colorbar\": {\"outlinewidth\": 0, \"ticks\": \"\"}}, \"type\": \"histogram\"}], \"histogram2d\": [{\"colorbar\": {\"outlinewidth\": 0, \"ticks\": \"\"}, \"colorscale\": [[0.0, \"#0d0887\"], [0.1111111111111111, \"#46039f\"], [0.2222222222222222, \"#7201a8\"], [0.3333333333333333, \"#9c179e\"], [0.4444444444444444, \"#bd3786\"], [0.5555555555555556, \"#d8576b\"], [0.6666666666666666, \"#ed7953\"], [0.7777777777777778, \"#fb9f3a\"], [0.8888888888888888, \"#fdca26\"], [1.0, \"#f0f921\"]], \"type\": \"histogram2d\"}], \"histogram2dcontour\": [{\"colorbar\": {\"outlinewidth\": 0, \"ticks\": \"\"}, \"colorscale\": [[0.0, \"#0d0887\"], [0.1111111111111111, \"#46039f\"], [0.2222222222222222, \"#7201a8\"], [0.3333333333333333, \"#9c179e\"], [0.4444444444444444, \"#bd3786\"], [0.5555555555555556, \"#d8576b\"], [0.6666666666666666, \"#ed7953\"], [0.7777777777777778, \"#fb9f3a\"], [0.8888888888888888, \"#fdca26\"], [1.0, \"#f0f921\"]], \"type\": \"histogram2dcontour\"}], \"mesh3d\": [{\"colorbar\": {\"outlinewidth\": 0, \"ticks\": \"\"}, \"type\": \"mesh3d\"}], \"parcoords\": [{\"line\": {\"colorbar\": {\"outlinewidth\": 0, \"ticks\": \"\"}}, \"type\": \"parcoords\"}], \"pie\": [{\"automargin\": true, \"type\": \"pie\"}], \"scatter\": [{\"marker\": {\"colorbar\": {\"outlinewidth\": 0, \"ticks\": \"\"}}, \"type\": \"scatter\"}], \"scatter3d\": [{\"line\": {\"colorbar\": {\"outlinewidth\": 0, \"ticks\": \"\"}}, \"marker\": {\"colorbar\": {\"outlinewidth\": 0, \"ticks\": \"\"}}, \"type\": \"scatter3d\"}], \"scattercarpet\": [{\"marker\": {\"colorbar\": {\"outlinewidth\": 0, \"ticks\": \"\"}}, \"type\": \"scattercarpet\"}], \"scattergeo\": [{\"marker\": {\"colorbar\": {\"outlinewidth\": 0, \"ticks\": \"\"}}, \"type\": \"scattergeo\"}], \"scattergl\": [{\"marker\": {\"colorbar\": {\"outlinewidth\": 0, \"ticks\": \"\"}}, \"type\": \"scattergl\"}], \"scattermapbox\": [{\"marker\": {\"colorbar\": {\"outlinewidth\": 0, \"ticks\": \"\"}}, \"type\": \"scattermapbox\"}], \"scatterpolar\": [{\"marker\": {\"colorbar\": {\"outlinewidth\": 0, \"ticks\": \"\"}}, \"type\": \"scatterpolar\"}], \"scatterpolargl\": [{\"marker\": {\"colorbar\": {\"outlinewidth\": 0, \"ticks\": \"\"}}, \"type\": \"scatterpolargl\"}], \"scatterternary\": [{\"marker\": {\"colorbar\": {\"outlinewidth\": 0, \"ticks\": \"\"}}, \"type\": \"scatterternary\"}], \"surface\": [{\"colorbar\": {\"outlinewidth\": 0, \"ticks\": \"\"}, \"colorscale\": [[0.0, \"#0d0887\"], [0.1111111111111111, \"#46039f\"], [0.2222222222222222, \"#7201a8\"], [0.3333333333333333, \"#9c179e\"], [0.4444444444444444, \"#bd3786\"], [0.5555555555555556, \"#d8576b\"], [0.6666666666666666, \"#ed7953\"], [0.7777777777777778, \"#fb9f3a\"], [0.8888888888888888, \"#fdca26\"], [1.0, \"#f0f921\"]], \"type\": \"surface\"}], \"table\": [{\"cells\": {\"fill\": {\"color\": \"#EBF0F8\"}, \"line\": {\"color\": \"white\"}}, \"header\": {\"fill\": {\"color\": \"#C8D4E3\"}, \"line\": {\"color\": \"white\"}}, \"type\": \"table\"}]}, \"layout\": {\"annotationdefaults\": {\"arrowcolor\": \"#2a3f5f\", \"arrowhead\": 0, \"arrowwidth\": 1}, \"coloraxis\": {\"colorbar\": {\"outlinewidth\": 0, \"ticks\": \"\"}}, \"colorscale\": {\"diverging\": [[0, \"#8e0152\"], [0.1, \"#c51b7d\"], [0.2, \"#de77ae\"], [0.3, \"#f1b6da\"], [0.4, \"#fde0ef\"], [0.5, \"#f7f7f7\"], [0.6, \"#e6f5d0\"], [0.7, \"#b8e186\"], [0.8, \"#7fbc41\"], [0.9, \"#4d9221\"], [1, \"#276419\"]], \"sequential\": [[0.0, \"#0d0887\"], [0.1111111111111111, \"#46039f\"], [0.2222222222222222, \"#7201a8\"], [0.3333333333333333, \"#9c179e\"], [0.4444444444444444, \"#bd3786\"], [0.5555555555555556, \"#d8576b\"], [0.6666666666666666, \"#ed7953\"], [0.7777777777777778, \"#fb9f3a\"], [0.8888888888888888, \"#fdca26\"], [1.0, \"#f0f921\"]], \"sequentialminus\": [[0.0, \"#0d0887\"], [0.1111111111111111, \"#46039f\"], [0.2222222222222222, \"#7201a8\"], [0.3333333333333333, \"#9c179e\"], [0.4444444444444444, \"#bd3786\"], [0.5555555555555556, \"#d8576b\"], [0.6666666666666666, \"#ed7953\"], [0.7777777777777778, \"#fb9f3a\"], [0.8888888888888888, \"#fdca26\"], [1.0, \"#f0f921\"]]}, \"colorway\": [\"#636efa\", \"#EF553B\", \"#00cc96\", \"#ab63fa\", \"#FFA15A\", \"#19d3f3\", \"#FF6692\", \"#B6E880\", \"#FF97FF\", \"#FECB52\"], \"font\": {\"color\": \"#2a3f5f\"}, \"geo\": {\"bgcolor\": \"white\", \"lakecolor\": \"white\", \"landcolor\": \"#E5ECF6\", \"showlakes\": true, \"showland\": true, \"subunitcolor\": \"white\"}, \"hoverlabel\": {\"align\": \"left\"}, \"hovermode\": \"closest\", \"mapbox\": {\"style\": \"light\"}, \"paper_bgcolor\": \"white\", \"plot_bgcolor\": \"#E5ECF6\", \"polar\": {\"angularaxis\": {\"gridcolor\": \"white\", \"linecolor\": \"white\", \"ticks\": \"\"}, \"bgcolor\": \"#E5ECF6\", \"radialaxis\": {\"gridcolor\": \"white\", \"linecolor\": \"white\", \"ticks\": \"\"}}, \"scene\": {\"xaxis\": {\"backgroundcolor\": \"#E5ECF6\", \"gridcolor\": \"white\", \"gridwidth\": 2, \"linecolor\": \"white\", \"showbackground\": true, \"ticks\": \"\", \"zerolinecolor\": \"white\"}, \"yaxis\": {\"backgroundcolor\": \"#E5ECF6\", \"gridcolor\": \"white\", \"gridwidth\": 2, \"linecolor\": \"white\", \"showbackground\": true, \"ticks\": \"\", \"zerolinecolor\": \"white\"}, \"zaxis\": {\"backgroundcolor\": \"#E5ECF6\", \"gridcolor\": \"white\", \"gridwidth\": 2, \"linecolor\": \"white\", \"showbackground\": true, \"ticks\": \"\", \"zerolinecolor\": \"white\"}}, \"shapedefaults\": {\"line\": {\"color\": \"#2a3f5f\"}}, \"ternary\": {\"aaxis\": {\"gridcolor\": \"white\", \"linecolor\": \"white\", \"ticks\": \"\"}, \"baxis\": {\"gridcolor\": \"white\", \"linecolor\": \"white\", \"ticks\": \"\"}, \"bgcolor\": \"#E5ECF6\", \"caxis\": {\"gridcolor\": \"white\", \"linecolor\": \"white\", \"ticks\": \"\"}}, \"title\": {\"x\": 0.05}, \"xaxis\": {\"automargin\": true, \"gridcolor\": \"white\", \"linecolor\": \"white\", \"ticks\": \"\", \"title\": {\"standoff\": 15}, \"zerolinecolor\": \"white\", \"zerolinewidth\": 2}, \"yaxis\": {\"automargin\": true, \"gridcolor\": \"white\", \"linecolor\": \"white\", \"ticks\": \"\", \"title\": {\"standoff\": 15}, \"zerolinecolor\": \"white\", \"zerolinewidth\": 2}}}, \"xaxis\": {\"anchor\": \"y\", \"domain\": [0.0, 1.0], \"title\": {\"text\": \"Age\"}}, \"yaxis\": {\"anchor\": \"x\", \"domain\": [0.0, 1.0], \"title\": {\"text\": \"count\"}}},\n",
              "                        {\"responsive\": true}\n",
              "                    ).then(function(){\n",
              "                            \n",
              "var gd = document.getElementById('230f4b06-4a48-47fa-b9a5-2bde2d6aee64');\n",
              "var x = new MutationObserver(function (mutations, observer) {{\n",
              "        var display = window.getComputedStyle(gd).display;\n",
              "        if (!display || display === 'none') {{\n",
              "            console.log([gd, 'removed!']);\n",
              "            Plotly.purge(gd);\n",
              "            observer.disconnect();\n",
              "        }}\n",
              "}});\n",
              "\n",
              "// Listen for the removal of the full notebook cells\n",
              "var notebookContainer = gd.closest('#notebook-container');\n",
              "if (notebookContainer) {{\n",
              "    x.observe(notebookContainer, {childList: true});\n",
              "}}\n",
              "\n",
              "// Listen for the clearing of the current output cell\n",
              "var outputEl = gd.closest('.output');\n",
              "if (outputEl) {{\n",
              "    x.observe(outputEl, {childList: true});\n",
              "}}\n",
              "\n",
              "                        })\n",
              "                };\n",
              "                \n",
              "            </script>\n",
              "        </div>\n",
              "</body>\n",
              "</html>"
            ]
          },
          "metadata": {}
        }
      ]
    },
    {
      "cell_type": "code",
      "metadata": {
        "colab": {
          "base_uri": "https://localhost:8080/"
        },
        "id": "hgAQRJi-RtRI",
        "outputId": "c3899f84-3fde-4d6d-87ec-ad43f59fc3cf"
      },
      "source": [
        "data_train.info()"
      ],
      "execution_count": null,
      "outputs": [
        {
          "output_type": "stream",
          "text": [
            "<class 'pandas.core.frame.DataFrame'>\n",
            "RangeIndex: 891 entries, 0 to 890\n",
            "Data columns (total 12 columns):\n",
            " #   Column       Non-Null Count  Dtype  \n",
            "---  ------       --------------  -----  \n",
            " 0   PassengerId  891 non-null    int64  \n",
            " 1   Survived     891 non-null    int64  \n",
            " 2   Pclass       891 non-null    int64  \n",
            " 3   Name         891 non-null    object \n",
            " 4   Sex          891 non-null    object \n",
            " 5   Age          714 non-null    float64\n",
            " 6   SibSp        891 non-null    int64  \n",
            " 7   Parch        891 non-null    int64  \n",
            " 8   Ticket       891 non-null    object \n",
            " 9   Fare         891 non-null    float64\n",
            " 10  Cabin        204 non-null    object \n",
            " 11  Embarked     889 non-null    object \n",
            "dtypes: float64(2), int64(5), object(5)\n",
            "memory usage: 83.7+ KB\n"
          ],
          "name": "stdout"
        }
      ]
    },
    {
      "cell_type": "code",
      "metadata": {
        "colab": {
          "base_uri": "https://localhost:8080/",
          "height": 542
        },
        "id": "itDTqApaRRaZ",
        "outputId": "fa610b46-0948-4e97-a52b-cc0da9c249a2"
      },
      "source": [
        "fig = px.violin(data_train,y='Age',color='Survived',\n",
        "                box=True,points='all',hover_data=['Name'])\n",
        "fig.show()"
      ],
      "execution_count": null,
      "outputs": [
        {
          "output_type": "display_data",
          "data": {
            "text/html": [
              "<html>\n",
              "<head><meta charset=\"utf-8\" /></head>\n",
              "<body>\n",
              "    <div>\n",
              "            <script src=\"https://cdnjs.cloudflare.com/ajax/libs/mathjax/2.7.5/MathJax.js?config=TeX-AMS-MML_SVG\"></script><script type=\"text/javascript\">if (window.MathJax) {MathJax.Hub.Config({SVG: {font: \"STIX-Web\"}});}</script>\n",
              "                <script type=\"text/javascript\">window.PlotlyConfig = {MathJaxConfig: 'local'};</script>\n",
              "        <script src=\"https://cdn.plot.ly/plotly-latest.min.js\"></script>    \n",
              "            <div id=\"214dfd7b-a612-480a-9aa7-17bf8e42b76b\" class=\"plotly-graph-div\" style=\"height:525px; width:100%;\"></div>\n",
              "            <script type=\"text/javascript\">\n",
              "                \n",
              "                    window.PLOTLYENV=window.PLOTLYENV || {};\n",
              "                    \n",
              "                if (document.getElementById(\"214dfd7b-a612-480a-9aa7-17bf8e42b76b\")) {\n",
              "                    Plotly.newPlot(\n",
              "                        '214dfd7b-a612-480a-9aa7-17bf8e42b76b',\n",
              "                        [{\"alignmentgroup\": \"True\", \"box\": {\"visible\": true}, \"customdata\": [[\"Braund, Mr. Owen Harris\"], [\"Allen, Mr. William Henry\"], [\"Moran, Mr. James\"], [\"McCarthy, Mr. Timothy J\"], [\"Palsson, Master. Gosta Leonard\"], [\"Saundercock, Mr. William Henry\"], [\"Andersson, Mr. Anders Johan\"], [\"Vestrom, Miss. Hulda Amanda Adolfina\"], [\"Rice, Master. Eugene\"], [\"Vander Planke, Mrs. Julius (Emelia Maria Vandemoortele)\"], [\"Fynney, Mr. Joseph J\"], [\"Palsson, Miss. Torborg Danira\"], [\"Emir, Mr. Farred Chehab\"], [\"Fortune, Mr. Charles Alexander\"], [\"Todoroff, Mr. Lalio\"], [\"Uruchurtu, Don. Manuel E\"], [\"Wheadon, Mr. Edward H\"], [\"Meyer, Mr. Edgar Joseph\"], [\"Holverson, Mr. Alexander Oskar\"], [\"Cann, Mr. Ernest Charles\"], [\"Vander Planke, Miss. Augusta Maria\"], [\"Ahlin, Mrs. Johan (Johanna Persdotter Larsson)\"], [\"Turpin, Mrs. William John Robert (Dorothy Ann Wonnacott)\"], [\"Kraeff, Mr. Theodor\"], [\"Rogers, Mr. William John\"], [\"Lennon, Mr. Denis\"], [\"Samaan, Mr. Youssef\"], [\"Arnold-Franchi, Mrs. Josef (Josefine Franchi)\"], [\"Panula, Master. Juha Niilo\"], [\"Nosworthy, Mr. Richard Cater\"], [\"Ostby, Mr. Engelhart Cornelius\"], [\"Novel, Mr. Mansouer\"], [\"Goodwin, Master. William Frederick\"], [\"Sirayanian, Mr. Orsen\"], [\"Harris, Mr. Henry Birkhardt\"], [\"Skoog, Master. Harald\"], [\"Stewart, Mr. Albert A\"], [\"Crease, Mr. Ernest James\"], [\"Kink, Mr. Vincenz\"], [\"Jenkin, Mr. Stephen Curnow\"], [\"Goodwin, Miss. Lillian Amy\"], [\"Hood, Mr. Ambrose Jr\"], [\"Chronopoulos, Mr. Apostolos\"], [\"Moen, Mr. Sigurd Hansen\"], [\"Staneff, Mr. Ivan\"], [\"Moutal, Mr. Rahamin Haim\"], [\"Waelens, Mr. Achille\"], [\"Carrau, Mr. Francisco M\"], [\"Ford, Mr. William Neal\"], [\"Slocovski, Mr. Selman Francis\"], [\"Celotti, Mr. Francesco\"], [\"Christmann, Mr. Emil\"], [\"Andreasson, Mr. Paul Edvin\"], [\"Chaffee, Mr. Herbert Fuller\"], [\"Dean, Mr. Bertram Frank\"], [\"Coxon, Mr. Daniel\"], [\"Shorney, Mr. Charles Joseph\"], [\"Goldschmidt, Mr. George B\"], [\"Kantor, Mr. Sinai\"], [\"Petranec, Miss. Matilda\"], [\"Petroff, Mr. Pastcho (\\\"Pentcho\\\")\"], [\"White, Mr. Richard Frasar\"], [\"Johansson, Mr. Gustaf Joel\"], [\"Gustafsson, Mr. Anders Vilhelm\"], [\"Mionoff, Mr. Stoytcho\"], [\"Rekic, Mr. Tido\"], [\"Porter, Mr. Walter Chamberlain\"], [\"Zabour, Miss. Hileni\"], [\"Barton, Mr. David John\"], [\"Jussila, Miss. Katriina\"], [\"Attalah, Miss. Malake\"], [\"Pekoniemi, Mr. Edvard\"], [\"Connors, Mr. Patrick\"], [\"Turpin, Mr. William John Robert\"], [\"Baxter, Mr. Quigg Edmond\"], [\"Andersson, Miss. Ellis Anna Maria\"], [\"Hickman, Mr. Stanley George\"], [\"Moore, Mr. Leonard Charles\"], [\"Nasser, Mr. Nicholas\"], [\"White, Mr. Percival Wayland\"], [\"McMahon, Mr. Martin\"], [\"Ekstrom, Mr. Johan\"], [\"Drazenoic, Mr. Jozef\"], [\"Coelho, Mr. Domingos Fernandeo\"], [\"Robins, Mrs. Alexander A (Grace Charity Laury)\"], [\"Sobey, Mr. Samuel James Hayden\"], [\"Richard, Mr. Emile\"], [\"Futrelle, Mr. Jacques Heath\"], [\"Osen, Mr. Olaf Elon\"], [\"Giglio, Mr. Victor\"], [\"Boulos, Mrs. Joseph (Sultana)\"], [\"Burke, Mr. Jeremiah\"], [\"Andrew, Mr. Edgardo Samuel\"], [\"Nicholls, Mr. Joseph Charles\"], [\"Ford, Miss. Robina Maggie \\\"Ruby\\\"\"], [\"Navratil, Mr. Michel (\\\"Louis M Hoffman\\\")\"], [\"Byles, Rev. Thomas Roussel Davids\"], [\"Bateman, Rev. Robert James\"], [\"Meo, Mr. Alfonzo\"], [\"van Billiard, Mr. Austin Blyler\"], [\"Olsen, Mr. Ole Martin\"], [\"Williams, Mr. Charles Duane\"], [\"Corn, Mr. Harry\"], [\"Smiljanic, Mr. Mile\"], [\"Sage, Master. Thomas Henry\"], [\"Cribb, Mr. John Hatfield\"], [\"Bengtsson, Mr. John Viktor\"], [\"Calic, Mr. Jovo\"], [\"Panula, Master. Eino Viljami\"], [\"Skoog, Mrs. William (Anna Bernhardina Karlsson)\"], [\"Baumann, Mr. John D\"], [\"Ling, Mr. Lee\"], [\"Van der hoef, Mr. Wyckoff\"], [\"Rice, Master. Arthur\"], [\"Sivola, Mr. Antti Wilhelm\"], [\"Smith, Mr. James Clinch\"], [\"Klasen, Mr. Klas Albin\"], [\"Lefebre, Master. Henry Forbes\"], [\"Isham, Miss. Ann Elizabeth\"], [\"Hale, Mr. Reginald\"], [\"Leonard, Mr. Lionel\"], [\"Sage, Miss. Constance Gladys\"], [\"Pernot, Mr. Rene\"], [\"Asplund, Master. Clarence Gustaf Hugo\"], [\"Rood, Mr. Hugh Roscoe\"], [\"Bourke, Mr. John\"], [\"Turcin, Mr. Stjepan\"], [\"Carbines, Mr. William\"], [\"Mernagh, Mr. Robert\"], [\"Olsen, Mr. Karl Siegwart Andreas\"], [\"Yrois, Miss. Henriette (\\\"Mrs Harbeck\\\")\"], [\"Vande Walle, Mr. Nestor Cyriel\"], [\"Sage, Mr. Frederick\"], [\"Johanson, Mr. Jakob Alfred\"], [\"Youseff, Mr. Gerious\"], [\"Strom, Miss. Telma Matilda\"], [\"Backstrom, Mr. Karl Alfred\"], [\"Ali, Mr. Ahmed\"], [\"Perkin, Mr. John Henry\"], [\"Givard, Mr. Hans Kristensen\"], [\"Kiernan, Mr. Philip\"], [\"Jacobsohn, Mr. Sidney Samuel\"], [\"Harris, Mr. Walter\"], [\"Bracken, Mr. James H\"], [\"Green, Mr. George Henry\"], [\"Nenkoff, Mr. Christo\"], [\"Berglund, Mr. Karl Ivar Sven\"], [\"Lovell, Mr. John Hall (\\\"Henry\\\")\"], [\"Fahlstrom, Mr. Arne Jonas\"], [\"Lefebre, Miss. Mathilde\"], [\"Larsson, Mr. Bengt Edvin\"], [\"Sjostedt, Mr. Ernst Adolf\"], [\"Leyson, Mr. Robert William Norman\"], [\"Harknett, Miss. Alice Phoebe\"], [\"Hold, Mr. Stephen\"], [\"Pengelly, Mr. Frederick William\"], [\"Hunt, Mr. George Henry\"], [\"Zabour, Miss. Thamine\"], [\"Coleridge, Mr. Reginald Charles\"], [\"Maenpaa, Mr. Matti Alexanteri\"], [\"Attalah, Mr. Sleiman\"], [\"Minahan, Dr. William Edward\"], [\"Lindahl, Miss. Agda Thorilda Viktoria\"], [\"Carter, Rev. Ernest Courtenay\"], [\"Reed, Mr. James George\"], [\"Strom, Mrs. Wilhelm (Elna Matilda Persson)\"], [\"Stead, Mr. William Thomas\"], [\"Lobb, Mr. William Arthur\"], [\"Rosblom, Mrs. Viktor (Helena Wilhelmina)\"], [\"Smith, Mr. Thomas\"], [\"Taussig, Mr. Emil\"], [\"Harrison, Mr. William\"], [\"Henry, Miss. Delia\"], [\"Reeves, Mr. David\"], [\"Panula, Mr. Ernesti Arvid\"], [\"Cairns, Mr. Alexander\"], [\"Natsch, Mr. Charles H\"], [\"Lindblom, Miss. Augusta Charlotta\"], [\"Parkes, Mr. Francis \\\"Frank\\\"\"], [\"Rice, Master. Eric\"], [\"Duane, Mr. Frank\"], [\"Olsson, Mr. Nils Johan Goransson\"], [\"de Pelsmaeker, Mr. Alfons\"], [\"Smith, Mr. Richard William\"], [\"Stankovic, Mr. Ivan\"], [\"Naidenoff, Mr. Penko\"], [\"Levy, Mr. Rene Jacques\"], [\"Haas, Miss. Aloisia\"], [\"Mineff, Mr. Ivan\"], [\"Lewy, Mr. Ervin G\"], [\"Hanna, Mr. Mansour\"], [\"Allison, Miss. Helen Loraine\"], [\"Johnson, Mr. William Cahoone Jr\"], [\"Williams, Mr. Howard Hugh \\\"Harry\\\"\"], [\"Abelson, Mr. Samuel\"], [\"Lahtinen, Mrs. William (Anna Sylfven)\"], [\"Hendekovic, Mr. Ignjac\"], [\"Hart, Mr. Benjamin\"], [\"Moraweck, Dr. Ernest\"], [\"Dennis, Mr. Samuel\"], [\"Danoff, Mr. Yoto\"], [\"Sage, Mr. George John Jr\"], [\"Nysveen, Mr. Johan Hansen\"], [\"Partner, Mr. Austen\"], [\"Graham, Mr. George Edward\"], [\"Vander Planke, Mr. Leo Edmondus\"], [\"Denkoff, Mr. Mitto\"], [\"Pears, Mr. Thomas Clinton\"], [\"Blackwell, Mr. Stephen Weart\"], [\"Collander, Mr. Erik Gustaf\"], [\"Sedgwick, Mr. Charles Frederick Waddington\"], [\"Fox, Mr. Stanley Hubert\"], [\"Dimic, Mr. Jovan\"], [\"Odahl, Mr. Nils Martin\"], [\"Williams-Lambert, Mr. Fletcher Fellows\"], [\"Elias, Mr. Tannous\"], [\"Arnold-Franchi, Mr. Josef\"], [\"Yousif, Mr. Wazli\"], [\"Vanden Steen, Mr. Leo Peter\"], [\"Funk, Miss. Annie Clemmer\"], [\"Skoog, Mr. Wilhelm\"], [\"del Carlo, Mr. Sebastiano\"], [\"Barbara, Mrs. (Catherine David)\"], [\"Asim, Mr. Adola\"], [\"O'Brien, Mr. Thomas\"], [\"Adahl, Mr. Mauritz Nils Martin\"], [\"Wiklund, Mr. Jakob Alfred\"], [\"Beavan, Mr. William Thomas\"], [\"Ringhini, Mr. Sante\"], [\"Palsson, Miss. Stina Viola\"], [\"Widener, Mr. Harry Elkins\"], [\"Betros, Mr. Tannous\"], [\"Gustafsson, Mr. Karl Gideon\"], [\"Tikkanen, Mr. Juho\"], [\"Plotcharsky, Mr. Vasil\"], [\"Davies, Mr. Charles Henry\"], [\"Goodwin, Master. Sidney Leonard\"], [\"Sadlier, Mr. Matthew\"], [\"Gustafsson, Mr. Johan Birger\"], [\"Johansson, Mr. Erik\"], [\"Olsson, Miss. Elina\"], [\"McKane, Mr. Peter David\"], [\"Pain, Dr. Alfred\"], [\"Adams, Mr. John\"], [\"Jussila, Miss. Mari Aina\"], [\"Hakkarainen, Mr. Pekka Pietari\"], [\"Oreskovic, Miss. Marija\"], [\"Gale, Mr. Shadrach\"], [\"Widegren, Mr. Carl/Charles Peter\"], [\"Birkeland, Mr. Hans Martin Monsen\"], [\"Lefebre, Miss. Ida\"], [\"Sdycoff, Mr. Todor\"], [\"Hart, Mr. Henry\"], [\"Cunningham, Mr. Alfred Fleming\"], [\"Meek, Mrs. Thomas (Annie Louise Rowley)\"], [\"Matthews, Mr. William John\"], [\"Van Impe, Miss. Catharina\"], [\"Gheorgheff, Mr. Stanio\"], [\"Charters, Mr. David\"], [\"Zimmerman, Mr. Leo\"], [\"Danbom, Mrs. Ernst Gilbert (Anna Sigrid Maria Brogren)\"], [\"Rosblom, Mr. Viktor Richard\"], [\"Wiseman, Mr. Phillippe\"], [\"Flynn, Mr. James\"], [\"Kallio, Mr. Nikolai Erland\"], [\"Silvey, Mr. William Baird\"], [\"Ford, Miss. Doolina Margaret \\\"Daisy\\\"\"], [\"Fortune, Mr. Mark\"], [\"Kvillner, Mr. Johan Henrik Johannesson\"], [\"Hampe, Mr. Leon\"], [\"Petterson, Mr. Johan Emil\"], [\"West, Mr. Edwy Arthur\"], [\"Hagland, Mr. Ingvald Olai Olsen\"], [\"Foreman, Mr. Benjamin Laventall\"], [\"Peduzzi, Mr. Joseph\"], [\"Millet, Mr. Francis Davis\"], [\"O'Connor, Mr. Maurice\"], [\"Morley, Mr. William\"], [\"Gee, Mr. Arthur H\"], [\"Milling, Mr. Jacob Christian\"], [\"Maisner, Mr. Simon\"], [\"Goncalves, Mr. Manuel Estanslas\"], [\"Campbell, Mr. William\"], [\"Smart, Mr. John Montgomery\"], [\"Scanlan, Mr. James\"], [\"Keefe, Mr. Arthur\"], [\"Cacic, Mr. Luka\"], [\"Strandberg, Miss. Ida Sofia\"], [\"Clifford, Mr. George Quincy\"], [\"Renouf, Mr. Peter Henry\"], [\"Braund, Mr. Lewis Richard\"], [\"Karlsson, Mr. Nils August\"], [\"Goodwin, Master. Harold Victor\"], [\"Frost, Mr. Anthony Wood \\\"Archie\\\"\"], [\"Rouse, Mr. Richard Henry\"], [\"Lefebre, Miss. Jeannie\"], [\"Kent, Mr. Edward Austin\"], [\"Somerton, Mr. Francis William\"], [\"Hagland, Mr. Konrad Mathias Reiersen\"], [\"Windelov, Mr. Einar\"], [\"Molson, Mr. Harry Markland\"], [\"Artagaveytia, Mr. Ramon\"], [\"Stanley, Mr. Edward Roland\"], [\"Yousseff, Mr. Gerious\"], [\"Shellard, Mr. Frederick William\"], [\"Allison, Mrs. Hudson J C (Bessie Waldo Daniels)\"], [\"Svensson, Mr. Olof\"], [\"Calic, Mr. Petar\"], [\"Canavan, Miss. Mary\"], [\"O'Sullivan, Miss. Bridget Mary\"], [\"Laitinen, Miss. Kristina Sofia\"], [\"Penasco y Castellana, Mr. Victor de Satode\"], [\"Olsen, Mr. Henry Margido\"], [\"Webber, Mr. James\"], [\"Coleff, Mr. Satio\"], [\"Walker, Mr. William Anderson\"], [\"Ryan, Mr. Patrick\"], [\"Pavlovic, Mr. Stefo\"], [\"Vovk, Mr. Janko\"], [\"Lahoud, Mr. Sarkis\"], [\"Kassem, Mr. Fared\"], [\"Farrell, Mr. James\"], [\"Farthing, Mr. John\"], [\"Salonen, Mr. Johan Werner\"], [\"Hocking, Mr. Richard George\"], [\"Toufik, Mr. Nakli\"], [\"Elias, Mr. Joseph Jr\"], [\"Cacic, Miss. Marija\"], [\"Butt, Major. Archibald Willingham\"], [\"Risien, Mr. Samuel Beard\"], [\"Andersson, Miss. Ingeborg Constanzia\"], [\"Andersson, Miss. Sigrid Elisabeth\"], [\"Douglas, Mr. Walter Donald\"], [\"Nicholson, Mr. Arthur Ernest\"], [\"Goldsmith, Mr. Frank John\"], [\"Sharp, Mr. Percival James R\"], [\"O'Brien, Mr. Timothy\"], [\"Wright, Mr. George\"], [\"Robbins, Mr. Victor\"], [\"Morrow, Mr. Thomas Rowan\"], [\"Sivic, Mr. Husein\"], [\"Norman, Mr. Robert Douglas\"], [\"Simmons, Mr. John\"], [\"Meanwell, Miss. (Marion Ogden)\"], [\"Davies, Mr. Alfred J\"], [\"Stoytcheff, Mr. Ilia\"], [\"Palsson, Mrs. Nils (Alma Cornelia Berglund)\"], [\"Doharr, Mr. Tannous\"], [\"Rush, Mr. Alfred George John\"], [\"Patchett, Mr. George\"], [\"Caram, Mrs. Joseph (Maria Elias)\"], [\"Downton, Mr. William James\"], [\"Ross, Mr. John Hugo\"], [\"Paulner, Mr. Uscher\"], [\"Jarvis, Mr. John Denzil\"], [\"Gilinski, Mr. Eliezer\"], [\"Murdlin, Mr. Joseph\"], [\"Rintamaki, Mr. Matti\"], [\"Elsbury, Mr. William James\"], [\"Bourke, Miss. Mary\"], [\"Chapman, Mr. John Henry\"], [\"Van Impe, Mr. Jean Baptiste\"], [\"Johnson, Mr. Alfred\"], [\"Boulos, Mr. Hanna\"], [\"Slabenoff, Mr. Petco\"], [\"Harrington, Mr. Charles H\"], [\"Torber, Mr. Ernst William\"], [\"Lindell, Mr. Edvard Bengtsson\"], [\"Karaic, Mr. Milan\"], [\"Andersson, Mrs. Anders Johan (Alfrida Konstantia Brogren)\"], [\"Jardin, Mr. Jose Neto\"], [\"Horgan, Mr. John\"], [\"Brocklebank, Mr. William Alfred\"], [\"Danbom, Mr. Ernst Gilbert\"], [\"Lobb, Mrs. William Arthur (Cordelia K Stanlick)\"], [\"Gavey, Mr. Lawrence\"], [\"Yasbeck, Mr. Antoni\"], [\"Hansen, Mr. Henry Damsgaard\"], [\"Bowen, Mr. David John \\\"Dai\\\"\"], [\"Sutton, Mr. Frederick\"], [\"Kirkland, Rev. Charles Leonard\"], [\"Bostandyeff, Mr. Guentcho\"], [\"O'Connell, Mr. Patrick D\"], [\"Lundahl, Mr. Johan Svensson\"], [\"Parr, Mr. William Henry Marsh\"], [\"Skoog, Miss. Mabel\"], [\"Leinonen, Mr. Antti Gustaf\"], [\"Collyer, Mr. Harvey\"], [\"Panula, Mrs. Juha (Maria Emilia Ojala)\"], [\"Thorneycroft, Mr. Percival\"], [\"Jensen, Mr. Hans Peder\"], [\"Skoog, Miss. Margit Elizabeth\"], [\"Cor, Mr. Liudevit\"], [\"Willey, Mr. Edward\"], [\"Mitkoff, Mr. Mito\"], [\"Kalvik, Mr. Johannes Halvorsen\"], [\"Hegarty, Miss. Hanora \\\"Nora\\\"\"], [\"Hickman, Mr. Leonard Mark\"], [\"Radeff, Mr. Alexander\"], [\"Bourke, Mrs. John (Catherine)\"], [\"Eitemiller, Mr. George Floyd\"], [\"Newell, Mr. Arthur Webster\"], [\"Badt, Mr. Mohamed\"], [\"Colley, Mr. Edward Pomeroy\"], [\"Coleff, Mr. Peju\"], [\"Hickman, Mr. Lewis\"], [\"Butler, Mr. Reginald Fenton\"], [\"Rommetvedt, Mr. Knud Paust\"], [\"Cook, Mr. Jacob\"], [\"Davidson, Mr. Thornton\"], [\"Mitchell, Mr. Henry Michael\"], [\"Watson, Mr. Ennis Hastings\"], [\"Edvardsson, Mr. Gustaf Hjalmar\"], [\"Sawyer, Mr. Frederick Charles\"], [\"Goodwin, Mrs. Frederick (Augusta Tyler)\"], [\"Peters, Miss. Katie\"], [\"Olsvigen, Mr. Thor Anderson\"], [\"Goodwin, Mr. Charles Edward\"], [\"Brown, Mr. Thomas William Solomon\"], [\"Laroche, Mr. Joseph Philippe Lemercier\"], [\"Panula, Mr. Jaako Arnold\"], [\"Dakic, Mr. Branko\"], [\"Fischer, Mr. Eberhard Thelander\"], [\"Saad, Mr. Khalil\"], [\"Weir, Col. John\"], [\"Chapman, Mr. Charles Henry\"], [\"Kelly, Mr. James\"], [\"Thayer, Mr. John Borland\"], [\"Humblen, Mr. Adolf Mathias Nicolai Olsen\"], [\"Barbara, Miss. Saiide\"], [\"Gallagher, Mr. Martin\"], [\"Hansen, Mr. Henrik Juul\"], [\"Morley, Mr. Henry Samuel (\\\"Mr Henry Marshall\\\")\"], [\"Klaber, Mr. Herman\"], [\"Larsson, Mr. August Viktor\"], [\"Greenberg, Mr. Samuel\"], [\"Soholt, Mr. Peter Andreas Lauritz Andersen\"], [\"McEvoy, Mr. Michael\"], [\"Johnson, Mr. Malkolm Joackim\"], [\"Jensen, Mr. Svend Lauritz\"], [\"Gillespie, Mr. William Henry\"], [\"Hodges, Mr. Henry Price\"], [\"Oreskovic, Mr. Luka\"], [\"Bryhl, Mr. Kurt Arnold Gottfrid\"], [\"Ilmakangas, Miss. Pieta Sofia\"], [\"Hassan, Mr. Houssein G N\"], [\"Knight, Mr. Robert J\"], [\"Berriman, Mr. William John\"], [\"Troupiansky, Mr. Moses Aaron\"], [\"Williams, Mr. Leslie\"], [\"Ford, Mrs. Edward (Margaret Ann Watson)\"], [\"Ivanoff, Mr. Kanio\"], [\"Nankoff, Mr. Minko\"], [\"Cavendish, Mr. Tyrell William\"], [\"McNamee, Mr. Neal\"], [\"Crosby, Capt. Edward Gifford\"], [\"Abbott, Mr. Rossmore Edward\"], [\"Marvin, Mr. Daniel Warner\"], [\"Connaghton, Mr. Michael\"], [\"Vande Velde, Mr. Johannes Joseph\"], [\"Jonkoff, Mr. Lalio\"], [\"Carlsson, Mr. August Sigfrid\"], [\"Bailey, Mr. Percy Andrew\"], [\"Theobald, Mr. Thomas Leonard\"], [\"Garfirth, Mr. John\"], [\"Nirva, Mr. Iisakki Antino Aijo\"], [\"Eklund, Mr. Hans Linus\"], [\"Brewe, Dr. Arthur Jackson\"], [\"Mangan, Miss. Mary\"], [\"Moran, Mr. Daniel J\"], [\"Gronnestad, Mr. Daniel Danielsen\"], [\"Lievens, Mr. Rene Aime\"], [\"Jensen, Mr. Niels Peder\"], [\"Mack, Mrs. (Mary)\"], [\"Elias, Mr. Dibo\"], [\"Myhrman, Mr. Pehr Fabian Oliver Malkolm\"], [\"Tobin, Mr. Roger\"], [\"Kilgannon, Mr. Thomas J\"], [\"Long, Mr. Milton Clyde\"], [\"Johnston, Mr. Andrew G\"], [\"Ali, Mr. William\"], [\"Harmer, Mr. Abraham (David Lishin)\"], [\"Rice, Master. George Hugh\"], [\"Guggenheim, Mr. Benjamin\"], [\"Keane, Mr. Andrew \\\"Andy\\\"\"], [\"Gaskell, Mr. Alfred\"], [\"Sage, Miss. Stella Anna\"], [\"Hoyt, Mr. William Fisher\"], [\"Dantcheff, Mr. Ristiu\"], [\"Otter, Mr. Richard\"], [\"Ibrahim Shawah, Mr. Yousseff\"], [\"Van Impe, Mrs. Jean Baptiste (Rosalie Paula Govaert)\"], [\"Ponesell, Mr. Martin\"], [\"Johansson, Mr. Karl Johan\"], [\"Andrews, Mr. Thomas Jr\"], [\"Pettersson, Miss. Ellen Natalia\"], [\"Meyer, Mr. August\"], [\"Alexander, Mr. William\"], [\"Lester, Mr. James\"], [\"Slemen, Mr. Richard James\"], [\"Andersson, Miss. Ebba Iris Alfrida\"], [\"Tomlin, Mr. Ernest Portage\"], [\"Fry, Mr. Richard\"], [\"Heininen, Miss. Wendla Maria\"], [\"Mallet, Mr. Albert\"], [\"Holm, Mr. John Fredrik Alexander\"], [\"Skoog, Master. Karl Thorsten\"], [\"Reuchlin, Jonkheer. John George\"], [\"Panula, Master. Urho Abraham\"], [\"Flynn, Mr. John\"], [\"Lam, Mr. Len\"], [\"Saad, Mr. Amin\"], [\"Augustsson, Mr. Albert\"], [\"Allum, Mr. Owen George\"], [\"Pasic, Mr. Jakob\"], [\"Sirota, Mr. Maurice\"], [\"Alhomaki, Mr. Ilmari Rudolf\"], [\"Mudd, Mr. Thomas Charles\"], [\"Lemberopolous, Mr. Peter L\"], [\"Culumovic, Mr. Jeso\"], [\"Abbing, Mr. Anthony\"], [\"Sage, Mr. Douglas Bullen\"], [\"Markoff, Mr. Marin\"], [\"Harper, Rev. John\"], [\"Andersson, Master. Sigvard Harald Elias\"], [\"Svensson, Mr. Johan\"], [\"Boulos, Miss. Nourelain\"], [\"Carter, Mrs. Ernest Courtenay (Lilian Hughes)\"], [\"Razi, Mr. Raihed\"], [\"Hansen, Mr. Claus Peter\"], [\"Giles, Mr. Frederick Edward\"], [\"Sage, Miss. Dorothy Edith \\\"Dolly\\\"\"], [\"Gill, Mr. John William\"], [\"Roebling, Mr. Washington Augustus II\"], [\"van Melkebeke, Mr. Philemon\"], [\"Balkic, Mr. Cerin\"], [\"Carlsson, Mr. Frans Olof\"], [\"Vander Cruyssen, Mr. Victor\"], [\"Gustafsson, Mr. Alfred Ossian\"], [\"Petroff, Mr. Nedelio\"], [\"Laleff, Mr. Kristo\"], [\"Markun, Mr. Johann\"], [\"Dahlberg, Miss. Gerda Ulrika\"], [\"Banfield, Mr. Frederick James\"], [\"Sutehall, Mr. Henry Jr\"], [\"Rice, Mrs. William (Margaret Norton)\"], [\"Montvila, Rev. Juozas\"], [\"Johnston, Miss. Catherine Helen \\\"Carrie\\\"\"], [\"Dooley, Mr. Patrick\"]], \"hoverlabel\": {\"namelength\": 0}, \"hovertemplate\": \"Survived=0<br>Age=%{y}<br>Name=%{customdata[0]}\", \"legendgroup\": \"Survived=0\", \"marker\": {\"color\": \"#636efa\"}, \"name\": \"Survived=0\", \"offsetgroup\": \"Survived=0\", \"orientation\": \"v\", \"points\": \"all\", \"scalegroup\": \"True\", \"showlegend\": true, \"type\": \"violin\", \"x0\": \" \", \"xaxis\": \"x\", \"y\": [22.0, 35.0, null, 54.0, 2.0, 20.0, 39.0, 14.0, 2.0, 31.0, 35.0, 8.0, null, 19.0, null, 40.0, 66.0, 28.0, 42.0, 21.0, 18.0, 40.0, 27.0, null, null, null, null, 18.0, 7.0, 21.0, 65.0, 28.5, 11.0, 22.0, 45.0, 4.0, null, 19.0, 26.0, 32.0, 16.0, 21.0, 26.0, 25.0, null, null, 22.0, 28.0, 16.0, null, 24.0, 29.0, 20.0, 46.0, 26.0, 59.0, null, 71.0, 34.0, 28.0, null, 21.0, 33.0, 37.0, 28.0, 38.0, 47.0, 14.5, 22.0, 20.0, 17.0, 21.0, 70.5, 29.0, 24.0, 2.0, 21.0, null, 32.5, 54.0, null, 45.0, 33.0, 20.0, 47.0, 25.0, 23.0, 37.0, 16.0, 24.0, null, 19.0, 18.0, 19.0, 9.0, 36.5, 42.0, 51.0, 55.5, 40.5, null, 51.0, 30.0, null, null, 44.0, 26.0, 17.0, 1.0, 45.0, null, 28.0, 61.0, 4.0, 21.0, 56.0, 18.0, null, 50.0, 30.0, 36.0, null, null, 9.0, null, 40.0, 36.0, 19.0, null, 42.0, 24.0, 28.0, null, 34.0, 45.5, 2.0, 32.0, 24.0, 22.0, 30.0, null, 42.0, 30.0, 27.0, 51.0, null, 22.0, 20.5, 18.0, null, 29.0, 59.0, 24.0, null, 44.0, 19.0, 33.0, null, 29.0, 22.0, 30.0, 44.0, 25.0, 54.0, null, 29.0, 62.0, 30.0, 41.0, null, 52.0, 40.0, null, 36.0, 16.0, null, 37.0, 45.0, null, 7.0, 65.0, 28.0, 16.0, null, 33.0, 22.0, 36.0, 24.0, 24.0, null, 23.5, 2.0, 19.0, null, 30.0, 26.0, 28.0, 43.0, 54.0, 22.0, 27.0, null, 61.0, 45.5, 38.0, 16.0, null, 29.0, 45.0, 28.0, 25.0, 36.0, 42.0, 23.0, null, 15.0, 25.0, null, 28.0, 38.0, 40.0, 29.0, 45.0, 35.0, null, 30.0, 18.0, 19.0, 22.0, 3.0, 27.0, 20.0, 19.0, 32.0, null, 18.0, 1.0, null, 28.0, 22.0, 31.0, 46.0, 23.0, 26.0, 21.0, 28.0, 20.0, 34.0, 51.0, 21.0, null, null, null, null, null, 30.0, 10.0, null, 21.0, 29.0, 28.0, 18.0, null, null, 17.0, 50.0, 21.0, 64.0, 31.0, 20.0, 25.0, 36.0, null, 30.0, null, 65.0, null, 34.0, 47.0, 48.0, null, 38.0, null, 56.0, null, null, 38.0, 22.0, null, 34.0, 29.0, 22.0, 9.0, null, 50.0, null, 58.0, 30.0, null, 21.0, 55.0, 71.0, 21.0, null, null, 25.0, 24.0, 17.0, 21.0, null, 37.0, 18.0, 28.0, null, 24.0, 47.0, null, 32.0, 22.0, null, null, 40.5, null, 39.0, 23.0, null, 17.0, 30.0, 45.0, null, 9.0, 11.0, 50.0, 64.0, 33.0, 27.0, null, 62.0, null, null, 40.0, 28.0, null, null, 24.0, 19.0, 29.0, null, 16.0, 19.0, null, 54.0, 36.0, null, 47.0, 22.0, null, 35.0, 47.0, null, 37.0, 36.0, 49.0, null, null, null, 44.0, 36.0, 30.0, 39.0, null, null, 35.0, 34.0, 26.0, 26.0, 27.0, 21.0, 21.0, 61.0, 57.0, 26.0, null, 51.0, null, 9.0, 32.0, 31.0, 41.0, null, 20.0, 2.0, 19.0, null, null, 21.0, 18.0, 24.0, null, 32.0, 23.0, 58.0, 40.0, 47.0, 36.0, 32.0, 25.0, null, 43.0, 31.0, 70.0, null, 18.0, 24.5, 43.0, null, 20.0, 14.0, 60.0, 25.0, 14.0, 19.0, 18.0, 25.0, 60.0, 52.0, 44.0, 49.0, 42.0, 18.0, 25.0, 26.0, 39.0, null, 29.0, 52.0, 19.0, null, 33.0, 17.0, 34.0, 50.0, 20.0, 25.0, 25.0, 11.0, null, 23.0, 23.0, 28.5, 48.0, null, null, 36.0, 24.0, 70.0, 16.0, 19.0, 31.0, 33.0, 23.0, 28.0, 18.0, 34.0, null, 41.0, 16.0, null, 30.5, null, 32.0, 24.0, 48.0, 57.0, null, 18.0, null, null, 29.0, null, 25.0, 25.0, 8.0, 46.0, null, 16.0, null, null, 25.0, 39.0, 30.0, 30.0, 34.0, 31.0, 39.0, 18.0, 39.0, 26.0, 39.0, 35.0, 6.0, 30.5, null, 23.0, 31.0, 43.0, 10.0, 38.0, 2.0, null, null, null, 23.0, 18.0, 21.0, null, 20.0, 16.0, 34.5, 17.0, 42.0, null, 35.0, 28.0, 4.0, 74.0, 9.0, 44.0, null, 41.0, 21.0, null, 24.0, 31.0, null, 26.0, 33.0, 47.0, 20.0, 19.0, null, 33.0, 22.0, 28.0, 25.0, 39.0, 27.0, null, 32.0], \"y0\": \" \", \"yaxis\": \"y\"}, {\"alignmentgroup\": \"True\", \"box\": {\"visible\": true}, \"customdata\": [[\"Cumings, Mrs. John Bradley (Florence Briggs Thayer)\"], [\"Heikkinen, Miss. Laina\"], [\"Futrelle, Mrs. Jacques Heath (Lily May Peel)\"], [\"Johnson, Mrs. Oscar W (Elisabeth Vilhelmina Berg)\"], [\"Nasser, Mrs. Nicholas (Adele Achem)\"], [\"Sandstrom, Miss. Marguerite Rut\"], [\"Bonnell, Miss. Elizabeth\"], [\"Hewlett, Mrs. (Mary D Kingcome) \"], [\"Williams, Mr. Charles Eugene\"], [\"Masselmani, Mrs. Fatima\"], [\"Beesley, Mr. Lawrence\"], [\"McGowan, Miss. Anna \\\"Annie\\\"\"], [\"Sloper, Mr. William Thompson\"], [\"Asplund, Mrs. Carl Oscar (Selma Augusta Emilia Johansson)\"], [\"O'Dwyer, Miss. Ellen \\\"Nellie\\\"\"], [\"Spencer, Mrs. William Augustus (Marie Eugenie)\"], [\"Glynn, Miss. Mary Agatha\"], [\"Mamee, Mr. Hanna\"], [\"Nicola-Yarred, Miss. Jamila\"], [\"Laroche, Miss. Simonne Marie Anne Andree\"], [\"Devaney, Miss. Margaret Delia\"], [\"O'Driscoll, Miss. Bridget\"], [\"Harper, Mrs. Henry Sleeper (Myna Haxtun)\"], [\"Faunthorpe, Mrs. Lizzie (Elizabeth Anne Wilkinson)\"], [\"Woolner, Mr. Hugh\"], [\"Rugg, Miss. Emily\"], [\"West, Miss. Constance Mirium\"], [\"Icard, Miss. Amelie\"], [\"Moubarek, Master. Gerios\"], [\"Nye, Mrs. (Elizabeth Ramell)\"], [\"Andersson, Miss. Erna Alexandra\"], [\"Bing, Mr. Lee\"], [\"Caldwell, Master. Alden Gates\"], [\"Dowdell, Miss. Elizabeth\"], [\"Sheerlinck, Mr. Jan Baptist\"], [\"McDermott, Miss. Brigdet Delia\"], [\"Ilett, Miss. Bertha\"], [\"Backstrom, Mrs. Karl Alfred (Maria Mathilda Gustafsson)\"], [\"Fortune, Miss. Mabel Helen\"], [\"Greenfield, Mr. William Bertram\"], [\"Doling, Mrs. John T (Ada Julia Bone)\"], [\"Salkjelsvik, Miss. Anna Kristine\"], [\"Moss, Mr. Albert Johan\"], [\"Moran, Miss. Bertha\"], [\"Webber, Miss. Susan\"], [\"Nicola-Yarred, Master. Elias\"], [\"Madsen, Mr. Fridtjof Arne\"], [\"Peter, Miss. Anna\"], [\"Weisz, Mrs. Leopold (Mathilde Francoise Pede)\"], [\"Newsom, Miss. Helen Monypeny\"], [\"Nysten, Miss. Anna Sofia\"], [\"Hakkarainen, Mrs. Pekka Pietari (Elin Matilda Dolck)\"], [\"Andersson, Mr. August Edvard (\\\"Wennerstrom\\\")\"], [\"Pears, Mrs. Thomas (Edith Wearne)\"], [\"Gilnagh, Miss. Katherine \\\"Katie\\\"\"], [\"Watt, Mrs. James (Elizabeth \\\"Bessie\\\" Inglis Milne)\"], [\"Goldsmith, Master. Frank John William \\\"Frankie\\\"\"], [\"Chibnall, Mrs. (Edith Martha Bowerman)\"], [\"Johnson, Miss. Eleanor Ileen\"], [\"Becker, Master. Richard F\"], [\"Kink-Heilmann, Miss. Luise Gretchen\"], [\"O'Brien, Mrs. Thomas (Johanna \\\"Hannah\\\" Godfrey)\"], [\"Romaine, Mr. Charles Hallace (\\\"Mr C Rolmane\\\")\"], [\"Pinsky, Mrs. (Rosa)\"], [\"Andersen-Jensen, Miss. Carla Christine Nielsine\"], [\"Navratil, Master. Michel M\"], [\"Brown, Mrs. James Joseph (Margaret Tobin)\"], [\"Lurette, Miss. Elise\"], [\"Madigan, Miss. Margaret \\\"Maggie\\\"\"], [\"Cohen, Mr. Gurshon \\\"Gus\\\"\"], [\"Albimona, Mr. Nassef Cassem\"], [\"Carr, Miss. Helen \\\"Ellen\\\"\"], [\"Blank, Mr. Henry\"], [\"Cameron, Miss. Clear Annie\"], [\"Newell, Miss. Madeleine\"], [\"Honkanen, Miss. Eliina\"], [\"Bazzani, Miss. Albina\"], [\"Sunderland, Mr. Victor Francis\"], [\"Hoyt, Mr. Frederick Maxfield\"], [\"Mellors, Mr. William John\"], [\"Harris, Mrs. Henry Birkhardt (Irene Wallach)\"], [\"Asplund, Miss. Lillian Gertrud\"], [\"Collyer, Miss. Marjorie \\\"Lottie\\\"\"], [\"Murphy, Miss. Katherine \\\"Kate\\\"\"], [\"Hamalainen, Mrs. William (Anna)\"], [\"Beckwith, Mr. Richard Leonard\"], [\"Touma, Mrs. Darwis (Hanne Youssef Razi)\"], [\"Thorne, Mrs. Gertrude Maybelle\"], [\"Cherry, Miss. Gladys\"], [\"Ward, Miss. Anna\"], [\"Parrish, Mrs. (Lutie Davis)\"], [\"Asplund, Master. Edvin Rojj Felix\"], [\"Persson, Mr. Ernst Ulrik\"], [\"Graham, Mrs. William Thompson (Edith Junkins)\"], [\"Bissette, Miss. Amelia\"], [\"Tornquist, Mr. William Henry\"], [\"Mellinger, Mrs. (Elizabeth Anne Maidment)\"], [\"Healy, Miss. Hanora \\\"Nora\\\"\"], [\"Andrews, Miss. Kornelia Theodosia\"], [\"Abbott, Mrs. Stanton (Rosa Hunt)\"], [\"Dorking, Mr. Edward Arthur\"], [\"de Mulder, Mr. Theodore\"], [\"Hosono, Mr. Masabumi\"], [\"Connolly, Miss. Kate\"], [\"Barber, Miss. Ellen \\\"Nellie\\\"\"], [\"Bishop, Mrs. Dickinson H (Helen Walton)\"], [\"Saalfeld, Mr. Adolphe\"], [\"Baxter, Mrs. James (Helene DeLaudeniere Chaput)\"], [\"Kelly, Miss. Anna Katherine \\\"Annie Kate\\\"\"], [\"McCoy, Mr. Bernard\"], [\"Keane, Miss. Nora A\"], [\"Allison, Master. Hudson Trevor\"], [\"Fleming, Miss. Margaret\"], [\"Penasco y Castellana, Mrs. Victor de Satode (Maria Josefa Perez de Soto y Vallejo)\"], [\"Francatelli, Miss. Laura Mabel\"], [\"Hays, Miss. Margaret Bechstein\"], [\"Ryerson, Miss. Emily Borie\"], [\"Nilsson, Miss. Helmina Josefina\"], [\"Kantor, Mrs. Sinai (Miriam Sternin)\"], [\"Wick, Miss. Mary Natalie\"], [\"Spedden, Mrs. Frederic Oakley (Margaretta Corning Stone)\"], [\"Slayter, Miss. Hilda Mary\"], [\"Caldwell, Mrs. Albert Francis (Sylvia Mae Harbaugh)\"], [\"Young, Miss. Marie Grice\"], [\"Ball, Mrs. (Ada E Hall)\"], [\"Goldsmith, Mrs. Frank John (Emily Alice Brown)\"], [\"Hippach, Miss. Jean Gertrude\"], [\"McCoy, Miss. Agnes\"], [\"Frauenthal, Mrs. Henry William (Clara Heinsheimer)\"], [\"Burns, Miss. Elizabeth Margaret\"], [\"Dahl, Mr. Karl Edwart\"], [\"Navratil, Master. Edmond Roger\"], [\"Fortune, Miss. Alice Elizabeth\"], [\"Brown, Miss. Amelia \\\"Mildred\\\"\"], [\"Smith, Miss. Marion Elsie\"], [\"Davison, Mrs. Thomas Henry (Mary E Finck)\"], [\"Coutts, Master. William Loch \\\"William\\\"\"], [\"Bowerman, Miss. Elsie Edith\"], [\"McGovern, Miss. Mary\"], [\"Mockler, Miss. Helen Mary \\\"Ellie\\\"\"], [\"Warren, Mrs. Frank Manley (Anna Sophia Atkinson)\"], [\"Moussa, Mrs. (Mantoura Boulos)\"], [\"Jermyn, Miss. Annie\"], [\"Aubart, Mme. Leontine Pauline\"], [\"Harder, Mr. George Achilles\"], [\"Meyer, Mrs. Edgar Joseph (Leila Saks)\"], [\"Landergren, Miss. Aurora Adelia\"], [\"Bidois, Miss. Rosalie\"], [\"Nakid, Miss. Maria (\\\"Mary\\\")\"], [\"Holverson, Mrs. Alexander Oskar (Mary Aline Towner)\"], [\"Buss, Miss. Kate\"], [\"Lehmann, Miss. Bertha\"], [\"Carter, Mr. William Ernest\"], [\"Jansson, Mr. Carl Olof\"], [\"Newell, Miss. Marjorie\"], [\"Sandstrom, Mrs. Hjalmar (Agnes Charlotta Bengtsson)\"], [\"Trout, Mrs. William H (Jessie L)\"], [\"Niskanen, Mr. Juha\"], [\"Richards, Master. William Rowe\"], [\"Minahan, Miss. Daisy E\"], [\"Sundman, Mr. Johan Julian\"], [\"Drew, Mrs. James Vivian (Lulu Thorne Christian)\"], [\"Silven, Miss. Lyyli Karoliina\"], [\"Clarke, Mrs. Charles V (Ada Maria Winfield)\"], [\"Phillips, Miss. Kate Florence (\\\"Mrs Kate Louise Phillips Marshall\\\")\"], [\"Pickard, Mr. Berk (Berk Trembisky)\"], [\"Bjornstrom-Steffansson, Mr. Mauritz Hakan\"], [\"Thorneycroft, Mrs. Percival (Florence Kate White)\"], [\"Louch, Mrs. Charles Alexander (Alice Adelaide Slow)\"], [\"Carter, Miss. Lucile Polk\"], [\"Richards, Mrs. Sidney (Emily Hocking)\"], [\"Hart, Mrs. Benjamin (Esther Ada Bloomfield)\"], [\"Reynaldo, Ms. Encarnacion\"], [\"Johannesen-Bratthammer, Mr. Bernt\"], [\"Dodge, Master. Washington\"], [\"Mellinger, Miss. Madeleine Violet\"], [\"Seward, Mr. Frederic Kimber\"], [\"Baclini, Miss. Marie Catherine\"], [\"Peuchen, Major. Arthur Godfrey\"], [\"Goldenberg, Mr. Samuel L\"], [\"Jalsevac, Mr. Ivan\"], [\"Kenyon, Mrs. Frederick R (Marion)\"], [\"Toomey, Miss. Ellen\"], [\"Anderson, Mr. Harry\"], [\"Baclini, Miss. Helene Barbara\"], [\"West, Mrs. Edwy Arthur (Ada Mary Worth)\"], [\"Jerwan, Mrs. Amin S (Marie Marthe Thuillard)\"], [\"Hirvonen, Miss. Hildur E\"], [\"Turkula, Mrs. (Hedwig)\"], [\"Bishop, Mr. Dickinson H\"], [\"Hoyt, Mrs. Frederick Maxfield (Jane Anne Forby)\"], [\"Coutts, Master. Eden Leslie \\\"Neville\\\"\"], [\"Eustis, Miss. Elizabeth Mussey\"], [\"Maioni, Miss. Roberta\"], [\"Quick, Mrs. Frederick Charles (Jane Richards)\"], [\"Bradley, Mr. George (\\\"George Arthur Brayton\\\")\"], [\"Lang, Mr. Fang\"], [\"Daly, Mr. Eugene Patrick\"], [\"McGough, Mr. James Robert\"], [\"Rothschild, Mrs. Martin (Elizabeth L. Barrett)\"], [\"Lemore, Mrs. (Amelia Milley)\"], [\"Angle, Mrs. William A (Florence \\\"Mary\\\" Agnes Hughes)\"], [\"Perreault, Miss. Anne\"], [\"Hippach, Mrs. Louis Albert (Ida Sophia Fischer)\"], [\"Ridsdale, Miss. Lucy\"], [\"Quick, Miss. Phyllis May\"], [\"Peter, Mrs. Catherine (Catherine Rizk)\"], [\"Hart, Miss. Eva Miriam\"], [\"LeRoy, Miss. Bertha\"], [\"Frolicher, Miss. Hedwig Margaritha\"], [\"Crosby, Miss. Harriet R\"], [\"Beane, Mr. Edward\"], [\"Beane, Mrs. Edward (Ethel Clarke)\"], [\"Padro y Manent, Mr. Julian\"], [\"Davies, Master. John Morgan Jr\"], [\"Thayer, Mr. John Borland Jr\"], [\"Leeni, Mr. Fahim (\\\"Philip Zenni\\\")\"], [\"Ohman, Miss. Velin\"], [\"Duff Gordon, Lady. (Lucille Christiana Sutherland) (\\\"Mrs Morgan\\\")\"], [\"Taussig, Mrs. Emil (Tillie Mandelbaum)\"], [\"de Messemaeker, Mrs. Guillaume Joseph (Emma)\"], [\"Jonsson, Mr. Carl\"], [\"Harris, Mr. George\"], [\"Appleton, Mrs. Edward Dale (Charlotte Lamson)\"], [\"Flynn, Mr. John Irwin (\\\"Irving\\\")\"], [\"Kelly, Miss. Mary\"], [\"Garside, Miss. Ethel\"], [\"Silvey, Mrs. William Baird (Alice Munger)\"], [\"Jussila, Mr. Eiriik\"], [\"Christy, Miss. Julie Rachel\"], [\"Thayer, Mrs. John Borland (Marian Longstreth Morris)\"], [\"Taussig, Miss. Ruth\"], [\"Frolicher-Stehli, Mr. Maxmillian\"], [\"Stephenson, Mrs. Walter Bertram (Martha Eustis)\"], [\"Leitch, Miss. Jessie Wills\"], [\"Duff Gordon, Sir. Cosmo Edmund (\\\"Mr Morgan\\\")\"], [\"Jacobsohn, Mrs. Sidney Samuel (Amy Frances Christy)\"], [\"Homer, Mr. Harry (\\\"Mr E Haven\\\")\"], [\"Daniel, Mr. Robert Williams\"], [\"Laroche, Mrs. Joseph (Juliette Marie Louise Lafargue)\"], [\"Shutes, Miss. Elizabeth W\"], [\"Murphy, Miss. Margaret Jane\"], [\"Herman, Miss. Alice\"], [\"Becker, Miss. Marion Louise\"], [\"Kimball, Mr. Edwin Nelson Jr\"], [\"Nakid, Mr. Sahid\"], [\"Longley, Miss. Gretchen Fiske\"], [\"Barkworth, Mr. Algernon Henry Wilson\"], [\"Stahelin-Maeglin, Dr. Max\"], [\"Davis, Miss. Mary\"], [\"Sagesser, Mlle. Emma\"], [\"Foo, Mr. Choong\"], [\"Baclini, Miss. Eugenie\"], [\"Harper, Mr. Henry Sleeper\"], [\"Simonius-Blumer, Col. Oberst Alfons\"], [\"Stanley, Miss. Amy Zillah Elsie\"], [\"Doling, Miss. Elsie\"], [\"O'Leary, Miss. Hanora \\\"Norah\\\"\"], [\"Frauenthal, Dr. Henry William\"], [\"Lindqvist, Mr. Eino William\"], [\"Taylor, Mrs. Elmer Zebley (Juliet Cummins Wright)\"], [\"Brown, Mrs. Thomas William Solomon (Elizabeth Catherine Ford)\"], [\"Wilhelms, Mr. Charles\"], [\"Turja, Miss. Anna Sofia\"], [\"Cardeza, Mr. Thomas Drake Martinez\"], [\"Hassab, Mr. Hammad\"], [\"Madill, Miss. Georgette Alexandra\"], [\"Dick, Mr. Albert Adrian\"], [\"Karun, Miss. Manca\"], [\"Lam, Mr. Ali\"], [\"Mullens, Miss. Katherine \\\"Katie\\\"\"], [\"Astor, Mrs. John Jacob (Madeleine Talmadge Force)\"], [\"Silverthorne, Mr. Spencer Victor\"], [\"Kelly, Mrs. Florence \\\"Fannie\\\"\"], [\"Calderhead, Mr. Edward Pennington\"], [\"Cleaver, Miss. Alice\"], [\"Moubarek, Master. Halim Gonios (\\\"William George\\\")\"], [\"Mayne, Mlle. Berthe Antonine (\\\"Mrs de Villiers\\\")\"], [\"Taylor, Mr. Elmer Zebley\"], [\"Endres, Miss. Caroline Louise\"], [\"Troutt, Miss. Edwina Celia \\\"Winnie\\\"\"], [\"Harper, Miss. Annie Jessie \\\"Nina\\\"\"], [\"Chambers, Mr. Norman Campbell\"], [\"Renouf, Mrs. Peter Henry (Lillian Jefferys)\"], [\"Mannion, Miss. Margareth\"], [\"Allen, Miss. Elisabeth Walton\"], [\"Lesurer, Mr. Gustave J\"], [\"Hawksford, Mr. Walter James\"], [\"Ryerson, Miss. Susan Parker \\\"Suzette\\\"\"], [\"Stranden, Mr. Juho\"], [\"Sinkkonen, Miss. Anna\"], [\"Wells, Miss. Joan\"], [\"Moor, Master. Meier\"], [\"Herman, Mrs. Samuel (Jane Laver)\"], [\"Hamalainen, Master. Viljo\"], [\"Rothes, the Countess. of (Lucy Noel Martha Dyer-Edwards)\"], [\"Barah, Mr. Hanna Assi\"], [\"Carter, Mrs. William Ernest (Lucile Polk)\"], [\"Hogeboom, Mrs. John C (Anna Andrews)\"], [\"Hocking, Mrs. Elizabeth (Eliza Needs)\"], [\"Emanuel, Miss. Virginia Ethel\"], [\"Robert, Mrs. Edward Scott (Elisabeth Walton McMillan)\"], [\"Ayoub, Miss. Banoura\"], [\"Dick, Mrs. Albert Adrian (Vera Gillespie)\"], [\"Sjoblom, Miss. Anna Sofia\"], [\"Dean, Master. Bertram Vere\"], [\"Leader, Dr. Alice (Farnham)\"], [\"Osman, Mrs. Mara\"], [\"Collyer, Mrs. Harvey (Charlotte Annie Tate)\"], [\"Carter, Master. William Thornton II\"], [\"Thomas, Master. Assad Alexander\"], [\"Hedman, Mr. Oskar Arvid\"], [\"Chambers, Mrs. Norman Campbell (Bertha Griggs)\"], [\"Hays, Mrs. Charles Melville (Clara Jennings Gregg)\"], [\"Lulic, Mr. Nikola\"], [\"Moor, Mrs. (Beila)\"], [\"Mallet, Master. Andre\"], [\"McCormack, Mr. Thomas Joseph\"], [\"Stone, Mrs. George Nelson (Martha Evelyn)\"], [\"Yasbeck, Mrs. Antoni (Selini Alexander)\"], [\"Richards, Master. George Sibley\"], [\"Compton, Miss. Sara Rebecca\"], [\"Chip, Mr. Chang\"], [\"Marechal, Mr. Pierre\"], [\"Serepeca, Miss. Augusta\"], [\"Goldenberg, Mrs. Samuel L (Edwiga Grabowska)\"], [\"Lines, Miss. Mary Conover\"], [\"Aks, Mrs. Sam (Leah Rosen)\"], [\"Wick, Mrs. George Dennick (Mary Hitchcock)\"], [\"Daly, Mr. Peter Denis \"], [\"Baclini, Mrs. Solomon (Latifa Qurban)\"], [\"Swift, Mrs. Frederick Joel (Margaret Welles Barron)\"], [\"Bystrom, Mrs. (Karolina)\"], [\"Duran y More, Miss. Asuncion\"], [\"Johnson, Master. Harold Theodor\"], [\"Beckwith, Mrs. Richard Leonard (Sallie Monypeny)\"], [\"Abelson, Mrs. Samuel (Hannah Wizosky)\"], [\"Najib, Miss. Adele Kiamie \\\"Jane\\\"\"], [\"Potter, Mrs. Thomas Jr (Lily Alexenia Wilson)\"], [\"Shelley, Mrs. William (Imanita Parrish Hall)\"], [\"Graham, Miss. Margaret Edith\"], [\"Behr, Mr. Karl Howell\"]], \"hoverlabel\": {\"namelength\": 0}, \"hovertemplate\": \"Survived=1<br>Age=%{y}<br>Name=%{customdata[0]}\", \"legendgroup\": \"Survived=1\", \"marker\": {\"color\": \"#EF553B\"}, \"name\": \"Survived=1\", \"offsetgroup\": \"Survived=1\", \"orientation\": \"v\", \"points\": \"all\", \"scalegroup\": \"True\", \"showlegend\": true, \"type\": \"violin\", \"x0\": \" \", \"xaxis\": \"x\", \"y\": [38.0, 26.0, 35.0, 27.0, 14.0, 4.0, 58.0, 55.0, null, null, 34.0, 15.0, 28.0, 38.0, null, null, null, null, 14.0, 3.0, 19.0, null, 49.0, 29.0, null, 21.0, 5.0, 38.0, null, 29.0, 17.0, 32.0, 0.83, 30.0, 29.0, null, 17.0, 33.0, 23.0, 23.0, 34.0, 21.0, null, null, 32.5, 12.0, 24.0, null, 29.0, 19.0, 22.0, 24.0, 27.0, 22.0, 16.0, 40.0, 9.0, null, 1.0, 1.0, 4.0, null, 45.0, 32.0, 19.0, 3.0, 44.0, 58.0, null, 18.0, 26.0, 16.0, 40.0, 35.0, 31.0, 27.0, 32.0, 16.0, 38.0, 19.0, 35.0, 5.0, 8.0, null, 24.0, 37.0, 29.0, null, 30.0, 35.0, 50.0, 3.0, 25.0, 58.0, 35.0, 25.0, 41.0, null, 63.0, 35.0, 19.0, 30.0, 42.0, 22.0, 26.0, 19.0, null, 50.0, null, null, null, 0.92, null, 17.0, 30.0, 24.0, 18.0, 26.0, 24.0, 31.0, 40.0, 30.0, 22.0, 36.0, 36.0, 31.0, 16.0, null, null, 41.0, 45.0, 2.0, 24.0, 24.0, 40.0, null, 3.0, 22.0, null, null, 60.0, null, null, 24.0, 25.0, null, 22.0, 42.0, 1.0, 35.0, 36.0, 17.0, 36.0, 21.0, 23.0, 24.0, 28.0, 39.0, 3.0, 33.0, 44.0, 34.0, 18.0, 28.0, 19.0, 32.0, 28.0, null, 42.0, 14.0, 24.0, 45.0, 28.0, null, 4.0, 13.0, 34.0, 5.0, 52.0, 49.0, 29.0, null, 50.0, 48.0, 0.75, 33.0, 23.0, 2.0, 63.0, 25.0, 35.0, 9.0, 54.0, 16.0, 33.0, null, 26.0, 29.0, 36.0, 54.0, 34.0, 36.0, 30.0, 44.0, 50.0, 2.0, null, 7.0, 30.0, 22.0, 36.0, 32.0, 19.0, null, 8.0, 17.0, 22.0, 22.0, 48.0, 39.0, 36.0, 32.0, 62.0, 53.0, 36.0, null, 34.0, 39.0, 32.0, 25.0, 39.0, 18.0, 60.0, 52.0, null, 49.0, 24.0, 35.0, 27.0, 22.0, 40.0, null, 24.0, 4.0, 42.0, 20.0, 21.0, 80.0, 32.0, 28.0, 24.0, null, 0.75, 48.0, 56.0, 23.0, 18.0, null, 50.0, 20.0, null, 40.0, 31.0, 18.0, 36.0, 27.0, 15.0, 31.0, 4.0, null, null, 18.0, 35.0, 45.0, 42.0, 22.0, null, 24.0, 48.0, 38.0, 27.0, 6.0, 27.0, 30.0, null, 29.0, 35.0, null, 21.0, 31.0, 30.0, 4.0, 6.0, 48.0, 0.67, 33.0, 20.0, 36.0, 51.0, 54.0, 5.0, 43.0, 13.0, 17.0, 18.0, 1.0, 49.0, 31.0, 31.0, 11.0, 0.42, 27.0, 33.0, 52.0, 27.0, 27.0, 1.0, null, 62.0, 15.0, 0.83, 39.0, 32.0, null, 30.0, null, 16.0, 18.0, 45.0, 51.0, 24.0, 48.0, 42.0, 27.0, 4.0, 47.0, 28.0, 15.0, 56.0, 25.0, 19.0, 26.0], \"y0\": \" \", \"yaxis\": \"y\"}],\n",
              "                        {\"legend\": {\"tracegroupgap\": 0}, \"margin\": {\"t\": 60}, \"template\": {\"data\": {\"bar\": [{\"error_x\": {\"color\": \"#2a3f5f\"}, \"error_y\": {\"color\": \"#2a3f5f\"}, \"marker\": {\"line\": {\"color\": \"#E5ECF6\", \"width\": 0.5}}, \"type\": \"bar\"}], \"barpolar\": [{\"marker\": {\"line\": {\"color\": \"#E5ECF6\", \"width\": 0.5}}, \"type\": \"barpolar\"}], \"carpet\": [{\"aaxis\": {\"endlinecolor\": \"#2a3f5f\", \"gridcolor\": \"white\", \"linecolor\": \"white\", \"minorgridcolor\": \"white\", \"startlinecolor\": \"#2a3f5f\"}, \"baxis\": {\"endlinecolor\": \"#2a3f5f\", \"gridcolor\": \"white\", \"linecolor\": \"white\", \"minorgridcolor\": \"white\", \"startlinecolor\": \"#2a3f5f\"}, \"type\": \"carpet\"}], \"choropleth\": [{\"colorbar\": {\"outlinewidth\": 0, \"ticks\": \"\"}, \"type\": \"choropleth\"}], \"contour\": [{\"colorbar\": {\"outlinewidth\": 0, \"ticks\": \"\"}, \"colorscale\": [[0.0, \"#0d0887\"], [0.1111111111111111, \"#46039f\"], [0.2222222222222222, \"#7201a8\"], [0.3333333333333333, \"#9c179e\"], [0.4444444444444444, \"#bd3786\"], [0.5555555555555556, \"#d8576b\"], [0.6666666666666666, \"#ed7953\"], [0.7777777777777778, \"#fb9f3a\"], [0.8888888888888888, \"#fdca26\"], [1.0, \"#f0f921\"]], \"type\": \"contour\"}], \"contourcarpet\": [{\"colorbar\": {\"outlinewidth\": 0, \"ticks\": \"\"}, \"type\": \"contourcarpet\"}], \"heatmap\": [{\"colorbar\": {\"outlinewidth\": 0, \"ticks\": \"\"}, \"colorscale\": [[0.0, \"#0d0887\"], [0.1111111111111111, \"#46039f\"], [0.2222222222222222, \"#7201a8\"], [0.3333333333333333, \"#9c179e\"], [0.4444444444444444, \"#bd3786\"], [0.5555555555555556, \"#d8576b\"], [0.6666666666666666, \"#ed7953\"], [0.7777777777777778, \"#fb9f3a\"], [0.8888888888888888, \"#fdca26\"], [1.0, \"#f0f921\"]], \"type\": \"heatmap\"}], \"heatmapgl\": [{\"colorbar\": {\"outlinewidth\": 0, \"ticks\": \"\"}, \"colorscale\": [[0.0, \"#0d0887\"], [0.1111111111111111, \"#46039f\"], [0.2222222222222222, \"#7201a8\"], [0.3333333333333333, \"#9c179e\"], [0.4444444444444444, \"#bd3786\"], [0.5555555555555556, \"#d8576b\"], [0.6666666666666666, \"#ed7953\"], [0.7777777777777778, \"#fb9f3a\"], [0.8888888888888888, \"#fdca26\"], [1.0, \"#f0f921\"]], \"type\": \"heatmapgl\"}], \"histogram\": [{\"marker\": {\"colorbar\": {\"outlinewidth\": 0, \"ticks\": \"\"}}, \"type\": \"histogram\"}], \"histogram2d\": [{\"colorbar\": {\"outlinewidth\": 0, \"ticks\": \"\"}, \"colorscale\": [[0.0, \"#0d0887\"], [0.1111111111111111, \"#46039f\"], [0.2222222222222222, \"#7201a8\"], [0.3333333333333333, \"#9c179e\"], [0.4444444444444444, \"#bd3786\"], [0.5555555555555556, \"#d8576b\"], [0.6666666666666666, \"#ed7953\"], [0.7777777777777778, \"#fb9f3a\"], [0.8888888888888888, \"#fdca26\"], [1.0, \"#f0f921\"]], \"type\": \"histogram2d\"}], \"histogram2dcontour\": [{\"colorbar\": {\"outlinewidth\": 0, \"ticks\": \"\"}, \"colorscale\": [[0.0, \"#0d0887\"], [0.1111111111111111, \"#46039f\"], [0.2222222222222222, \"#7201a8\"], [0.3333333333333333, \"#9c179e\"], [0.4444444444444444, \"#bd3786\"], [0.5555555555555556, \"#d8576b\"], [0.6666666666666666, \"#ed7953\"], [0.7777777777777778, \"#fb9f3a\"], [0.8888888888888888, \"#fdca26\"], [1.0, \"#f0f921\"]], \"type\": \"histogram2dcontour\"}], \"mesh3d\": [{\"colorbar\": {\"outlinewidth\": 0, \"ticks\": \"\"}, \"type\": \"mesh3d\"}], \"parcoords\": [{\"line\": {\"colorbar\": {\"outlinewidth\": 0, \"ticks\": \"\"}}, \"type\": \"parcoords\"}], \"pie\": [{\"automargin\": true, \"type\": \"pie\"}], \"scatter\": [{\"marker\": {\"colorbar\": {\"outlinewidth\": 0, \"ticks\": \"\"}}, \"type\": \"scatter\"}], \"scatter3d\": [{\"line\": {\"colorbar\": {\"outlinewidth\": 0, \"ticks\": \"\"}}, \"marker\": {\"colorbar\": {\"outlinewidth\": 0, \"ticks\": \"\"}}, \"type\": \"scatter3d\"}], \"scattercarpet\": [{\"marker\": {\"colorbar\": {\"outlinewidth\": 0, \"ticks\": \"\"}}, \"type\": \"scattercarpet\"}], \"scattergeo\": [{\"marker\": {\"colorbar\": {\"outlinewidth\": 0, \"ticks\": \"\"}}, \"type\": \"scattergeo\"}], \"scattergl\": [{\"marker\": {\"colorbar\": {\"outlinewidth\": 0, \"ticks\": \"\"}}, \"type\": \"scattergl\"}], \"scattermapbox\": [{\"marker\": {\"colorbar\": {\"outlinewidth\": 0, \"ticks\": \"\"}}, \"type\": \"scattermapbox\"}], \"scatterpolar\": [{\"marker\": {\"colorbar\": {\"outlinewidth\": 0, \"ticks\": \"\"}}, \"type\": \"scatterpolar\"}], \"scatterpolargl\": [{\"marker\": {\"colorbar\": {\"outlinewidth\": 0, \"ticks\": \"\"}}, \"type\": \"scatterpolargl\"}], \"scatterternary\": [{\"marker\": {\"colorbar\": {\"outlinewidth\": 0, \"ticks\": \"\"}}, \"type\": \"scatterternary\"}], \"surface\": [{\"colorbar\": {\"outlinewidth\": 0, \"ticks\": \"\"}, \"colorscale\": [[0.0, \"#0d0887\"], [0.1111111111111111, \"#46039f\"], [0.2222222222222222, \"#7201a8\"], [0.3333333333333333, \"#9c179e\"], [0.4444444444444444, \"#bd3786\"], [0.5555555555555556, \"#d8576b\"], [0.6666666666666666, \"#ed7953\"], [0.7777777777777778, \"#fb9f3a\"], [0.8888888888888888, \"#fdca26\"], [1.0, \"#f0f921\"]], \"type\": \"surface\"}], \"table\": [{\"cells\": {\"fill\": {\"color\": \"#EBF0F8\"}, \"line\": {\"color\": \"white\"}}, \"header\": {\"fill\": {\"color\": \"#C8D4E3\"}, \"line\": {\"color\": \"white\"}}, \"type\": \"table\"}]}, \"layout\": {\"annotationdefaults\": {\"arrowcolor\": \"#2a3f5f\", \"arrowhead\": 0, \"arrowwidth\": 1}, \"coloraxis\": {\"colorbar\": {\"outlinewidth\": 0, \"ticks\": \"\"}}, \"colorscale\": {\"diverging\": [[0, \"#8e0152\"], [0.1, \"#c51b7d\"], [0.2, \"#de77ae\"], [0.3, \"#f1b6da\"], [0.4, \"#fde0ef\"], [0.5, \"#f7f7f7\"], [0.6, \"#e6f5d0\"], [0.7, \"#b8e186\"], [0.8, \"#7fbc41\"], [0.9, \"#4d9221\"], [1, \"#276419\"]], \"sequential\": [[0.0, \"#0d0887\"], [0.1111111111111111, \"#46039f\"], [0.2222222222222222, \"#7201a8\"], [0.3333333333333333, \"#9c179e\"], [0.4444444444444444, \"#bd3786\"], [0.5555555555555556, \"#d8576b\"], [0.6666666666666666, \"#ed7953\"], [0.7777777777777778, \"#fb9f3a\"], [0.8888888888888888, \"#fdca26\"], [1.0, \"#f0f921\"]], \"sequentialminus\": [[0.0, \"#0d0887\"], [0.1111111111111111, \"#46039f\"], [0.2222222222222222, \"#7201a8\"], [0.3333333333333333, \"#9c179e\"], [0.4444444444444444, \"#bd3786\"], [0.5555555555555556, \"#d8576b\"], [0.6666666666666666, \"#ed7953\"], [0.7777777777777778, \"#fb9f3a\"], [0.8888888888888888, \"#fdca26\"], [1.0, \"#f0f921\"]]}, \"colorway\": [\"#636efa\", \"#EF553B\", \"#00cc96\", \"#ab63fa\", \"#FFA15A\", \"#19d3f3\", \"#FF6692\", \"#B6E880\", \"#FF97FF\", \"#FECB52\"], \"font\": {\"color\": \"#2a3f5f\"}, \"geo\": {\"bgcolor\": \"white\", \"lakecolor\": \"white\", \"landcolor\": \"#E5ECF6\", \"showlakes\": true, \"showland\": true, \"subunitcolor\": \"white\"}, \"hoverlabel\": {\"align\": \"left\"}, \"hovermode\": \"closest\", \"mapbox\": {\"style\": \"light\"}, \"paper_bgcolor\": \"white\", \"plot_bgcolor\": \"#E5ECF6\", \"polar\": {\"angularaxis\": {\"gridcolor\": \"white\", \"linecolor\": \"white\", \"ticks\": \"\"}, \"bgcolor\": \"#E5ECF6\", \"radialaxis\": {\"gridcolor\": \"white\", \"linecolor\": \"white\", \"ticks\": \"\"}}, \"scene\": {\"xaxis\": {\"backgroundcolor\": \"#E5ECF6\", \"gridcolor\": \"white\", \"gridwidth\": 2, \"linecolor\": \"white\", \"showbackground\": true, \"ticks\": \"\", \"zerolinecolor\": \"white\"}, \"yaxis\": {\"backgroundcolor\": \"#E5ECF6\", \"gridcolor\": \"white\", \"gridwidth\": 2, \"linecolor\": \"white\", \"showbackground\": true, \"ticks\": \"\", \"zerolinecolor\": \"white\"}, \"zaxis\": {\"backgroundcolor\": \"#E5ECF6\", \"gridcolor\": \"white\", \"gridwidth\": 2, \"linecolor\": \"white\", \"showbackground\": true, \"ticks\": \"\", \"zerolinecolor\": \"white\"}}, \"shapedefaults\": {\"line\": {\"color\": \"#2a3f5f\"}}, \"ternary\": {\"aaxis\": {\"gridcolor\": \"white\", \"linecolor\": \"white\", \"ticks\": \"\"}, \"baxis\": {\"gridcolor\": \"white\", \"linecolor\": \"white\", \"ticks\": \"\"}, \"bgcolor\": \"#E5ECF6\", \"caxis\": {\"gridcolor\": \"white\", \"linecolor\": \"white\", \"ticks\": \"\"}}, \"title\": {\"x\": 0.05}, \"xaxis\": {\"automargin\": true, \"gridcolor\": \"white\", \"linecolor\": \"white\", \"ticks\": \"\", \"title\": {\"standoff\": 15}, \"zerolinecolor\": \"white\", \"zerolinewidth\": 2}, \"yaxis\": {\"automargin\": true, \"gridcolor\": \"white\", \"linecolor\": \"white\", \"ticks\": \"\", \"title\": {\"standoff\": 15}, \"zerolinecolor\": \"white\", \"zerolinewidth\": 2}}}, \"violinmode\": \"group\", \"xaxis\": {\"anchor\": \"y\", \"domain\": [0.0, 1.0]}, \"yaxis\": {\"anchor\": \"x\", \"domain\": [0.0, 1.0], \"title\": {\"text\": \"Age\"}}},\n",
              "                        {\"responsive\": true}\n",
              "                    ).then(function(){\n",
              "                            \n",
              "var gd = document.getElementById('214dfd7b-a612-480a-9aa7-17bf8e42b76b');\n",
              "var x = new MutationObserver(function (mutations, observer) {{\n",
              "        var display = window.getComputedStyle(gd).display;\n",
              "        if (!display || display === 'none') {{\n",
              "            console.log([gd, 'removed!']);\n",
              "            Plotly.purge(gd);\n",
              "            observer.disconnect();\n",
              "        }}\n",
              "}});\n",
              "\n",
              "// Listen for the removal of the full notebook cells\n",
              "var notebookContainer = gd.closest('#notebook-container');\n",
              "if (notebookContainer) {{\n",
              "    x.observe(notebookContainer, {childList: true});\n",
              "}}\n",
              "\n",
              "// Listen for the clearing of the current output cell\n",
              "var outputEl = gd.closest('.output');\n",
              "if (outputEl) {{\n",
              "    x.observe(outputEl, {childList: true});\n",
              "}}\n",
              "\n",
              "                        })\n",
              "                };\n",
              "                \n",
              "            </script>\n",
              "        </div>\n",
              "</body>\n",
              "</html>"
            ]
          },
          "metadata": {}
        }
      ]
    },
    {
      "cell_type": "code",
      "metadata": {
        "colab": {
          "base_uri": "https://localhost:8080/",
          "height": 207
        },
        "id": "t-fvZpWeSJem",
        "outputId": "a4ba4917-16b6-4160-96ce-a0bf373f87a0"
      },
      "source": [
        "fig = px.scatter(data_train.dropna(subset=['Age','Fare']),x='Age',y='Fare',trendline='ols')\n",
        "fig.add_hline(y=0.9)\n",
        "fig.show()"
      ],
      "execution_count": null,
      "outputs": [
        {
          "output_type": "error",
          "ename": "AttributeError",
          "evalue": "ignored",
          "traceback": [
            "\u001b[0;31m---------------------------------------------------------------------------\u001b[0m",
            "\u001b[0;31mAttributeError\u001b[0m                            Traceback (most recent call last)",
            "\u001b[0;32m<ipython-input-63-e2714a3baf5d>\u001b[0m in \u001b[0;36m<module>\u001b[0;34m()\u001b[0m\n\u001b[1;32m      1\u001b[0m \u001b[0mfig\u001b[0m \u001b[0;34m=\u001b[0m \u001b[0mpx\u001b[0m\u001b[0;34m.\u001b[0m\u001b[0mscatter\u001b[0m\u001b[0;34m(\u001b[0m\u001b[0mdata_train\u001b[0m\u001b[0;34m.\u001b[0m\u001b[0mdropna\u001b[0m\u001b[0;34m(\u001b[0m\u001b[0msubset\u001b[0m\u001b[0;34m=\u001b[0m\u001b[0;34m[\u001b[0m\u001b[0;34m'Age'\u001b[0m\u001b[0;34m,\u001b[0m\u001b[0;34m'Fare'\u001b[0m\u001b[0;34m]\u001b[0m\u001b[0;34m)\u001b[0m\u001b[0;34m,\u001b[0m\u001b[0mx\u001b[0m\u001b[0;34m=\u001b[0m\u001b[0;34m'Age'\u001b[0m\u001b[0;34m,\u001b[0m\u001b[0my\u001b[0m\u001b[0;34m=\u001b[0m\u001b[0;34m'Fare'\u001b[0m\u001b[0;34m,\u001b[0m\u001b[0mtrendline\u001b[0m\u001b[0;34m=\u001b[0m\u001b[0;34m'ols'\u001b[0m\u001b[0;34m)\u001b[0m\u001b[0;34m\u001b[0m\u001b[0;34m\u001b[0m\u001b[0m\n\u001b[0;32m----> 2\u001b[0;31m \u001b[0mfig\u001b[0m\u001b[0;34m.\u001b[0m\u001b[0madd_hline\u001b[0m\u001b[0;34m(\u001b[0m\u001b[0my\u001b[0m\u001b[0;34m=\u001b[0m\u001b[0;36m0.9\u001b[0m\u001b[0;34m)\u001b[0m\u001b[0;34m\u001b[0m\u001b[0;34m\u001b[0m\u001b[0m\n\u001b[0m\u001b[1;32m      3\u001b[0m \u001b[0mfig\u001b[0m\u001b[0;34m.\u001b[0m\u001b[0mshow\u001b[0m\u001b[0;34m(\u001b[0m\u001b[0;34m)\u001b[0m\u001b[0;34m\u001b[0m\u001b[0;34m\u001b[0m\u001b[0m\n",
            "\u001b[0;31mAttributeError\u001b[0m: 'Figure' object has no attribute 'add_hline'"
          ]
        }
      ]
    },
    {
      "cell_type": "code",
      "metadata": {
        "colab": {
          "base_uri": "https://localhost:8080/"
        },
        "id": "Znh16zh1GcIj",
        "outputId": "5d40b016-c566-4aab-a2f3-ffa701b0bf58"
      },
      "source": [
        "data_train.shape[0] , len(data_train)"
      ],
      "execution_count": null,
      "outputs": [
        {
          "output_type": "execute_result",
          "data": {
            "text/plain": [
              "(891, 891)"
            ]
          },
          "metadata": {
            "tags": []
          },
          "execution_count": 82
        }
      ]
    },
    {
      "cell_type": "code",
      "metadata": {
        "colab": {
          "base_uri": "https://localhost:8080/"
        },
        "id": "QLQZHS67tjFo",
        "outputId": "03cd8a30-1eed-408f-b357-a31b89440679"
      },
      "source": [
        "(1-data_train.isna().sum() / len(data_train))*100"
      ],
      "execution_count": null,
      "outputs": [
        {
          "output_type": "execute_result",
          "data": {
            "text/plain": [
              "PassengerId    100.000000\n",
              "Survived       100.000000\n",
              "Pclass         100.000000\n",
              "Name           100.000000\n",
              "Sex            100.000000\n",
              "Age             80.134680\n",
              "SibSp          100.000000\n",
              "Parch          100.000000\n",
              "Ticket         100.000000\n",
              "Fare           100.000000\n",
              "Cabin           22.895623\n",
              "Embarked        99.775533\n",
              "dtype: float64"
            ]
          },
          "metadata": {
            "tags": []
          },
          "execution_count": 85
        }
      ]
    },
    {
      "cell_type": "code",
      "metadata": {
        "colab": {
          "base_uri": "https://localhost:8080/"
        },
        "id": "unBZvbdktjBI",
        "outputId": "286a1fbf-ba35-4b8e-f455-185b8243d6c9"
      },
      "source": [
        "data_train.dtypes"
      ],
      "execution_count": null,
      "outputs": [
        {
          "output_type": "execute_result",
          "data": {
            "text/plain": [
              "PassengerId      int64\n",
              "Survived         int64\n",
              "Pclass           int64\n",
              "Name            object\n",
              "Sex             object\n",
              "Age            float64\n",
              "SibSp            int64\n",
              "Parch            int64\n",
              "Ticket          object\n",
              "Fare           float64\n",
              "Cabin           object\n",
              "Embarked        object\n",
              "dtype: object"
            ]
          },
          "metadata": {
            "tags": []
          },
          "execution_count": 86
        }
      ]
    },
    {
      "cell_type": "code",
      "metadata": {
        "colab": {
          "base_uri": "https://localhost:8080/",
          "height": 297
        },
        "id": "PSmncTIAti8Q",
        "outputId": "6db5a69b-8917-4e53-e587-1c677ab2baa6"
      },
      "source": [
        "data_train.describe()"
      ],
      "execution_count": null,
      "outputs": [
        {
          "output_type": "execute_result",
          "data": {
            "text/html": [
              "<div>\n",
              "<style scoped>\n",
              "    .dataframe tbody tr th:only-of-type {\n",
              "        vertical-align: middle;\n",
              "    }\n",
              "\n",
              "    .dataframe tbody tr th {\n",
              "        vertical-align: top;\n",
              "    }\n",
              "\n",
              "    .dataframe thead th {\n",
              "        text-align: right;\n",
              "    }\n",
              "</style>\n",
              "<table border=\"1\" class=\"dataframe\">\n",
              "  <thead>\n",
              "    <tr style=\"text-align: right;\">\n",
              "      <th></th>\n",
              "      <th>PassengerId</th>\n",
              "      <th>Survived</th>\n",
              "      <th>Pclass</th>\n",
              "      <th>Age</th>\n",
              "      <th>SibSp</th>\n",
              "      <th>Parch</th>\n",
              "      <th>Fare</th>\n",
              "    </tr>\n",
              "  </thead>\n",
              "  <tbody>\n",
              "    <tr>\n",
              "      <th>count</th>\n",
              "      <td>891.000000</td>\n",
              "      <td>891.000000</td>\n",
              "      <td>891.000000</td>\n",
              "      <td>714.000000</td>\n",
              "      <td>891.000000</td>\n",
              "      <td>891.000000</td>\n",
              "      <td>891.000000</td>\n",
              "    </tr>\n",
              "    <tr>\n",
              "      <th>mean</th>\n",
              "      <td>446.000000</td>\n",
              "      <td>0.383838</td>\n",
              "      <td>2.308642</td>\n",
              "      <td>29.699118</td>\n",
              "      <td>0.523008</td>\n",
              "      <td>0.381594</td>\n",
              "      <td>32.204208</td>\n",
              "    </tr>\n",
              "    <tr>\n",
              "      <th>std</th>\n",
              "      <td>257.353842</td>\n",
              "      <td>0.486592</td>\n",
              "      <td>0.836071</td>\n",
              "      <td>14.526497</td>\n",
              "      <td>1.102743</td>\n",
              "      <td>0.806057</td>\n",
              "      <td>49.693429</td>\n",
              "    </tr>\n",
              "    <tr>\n",
              "      <th>min</th>\n",
              "      <td>1.000000</td>\n",
              "      <td>0.000000</td>\n",
              "      <td>1.000000</td>\n",
              "      <td>0.420000</td>\n",
              "      <td>0.000000</td>\n",
              "      <td>0.000000</td>\n",
              "      <td>0.000000</td>\n",
              "    </tr>\n",
              "    <tr>\n",
              "      <th>25%</th>\n",
              "      <td>223.500000</td>\n",
              "      <td>0.000000</td>\n",
              "      <td>2.000000</td>\n",
              "      <td>20.125000</td>\n",
              "      <td>0.000000</td>\n",
              "      <td>0.000000</td>\n",
              "      <td>7.910400</td>\n",
              "    </tr>\n",
              "    <tr>\n",
              "      <th>50%</th>\n",
              "      <td>446.000000</td>\n",
              "      <td>0.000000</td>\n",
              "      <td>3.000000</td>\n",
              "      <td>28.000000</td>\n",
              "      <td>0.000000</td>\n",
              "      <td>0.000000</td>\n",
              "      <td>14.454200</td>\n",
              "    </tr>\n",
              "    <tr>\n",
              "      <th>75%</th>\n",
              "      <td>668.500000</td>\n",
              "      <td>1.000000</td>\n",
              "      <td>3.000000</td>\n",
              "      <td>38.000000</td>\n",
              "      <td>1.000000</td>\n",
              "      <td>0.000000</td>\n",
              "      <td>31.000000</td>\n",
              "    </tr>\n",
              "    <tr>\n",
              "      <th>max</th>\n",
              "      <td>891.000000</td>\n",
              "      <td>1.000000</td>\n",
              "      <td>3.000000</td>\n",
              "      <td>80.000000</td>\n",
              "      <td>8.000000</td>\n",
              "      <td>6.000000</td>\n",
              "      <td>512.329200</td>\n",
              "    </tr>\n",
              "  </tbody>\n",
              "</table>\n",
              "</div>"
            ],
            "text/plain": [
              "       PassengerId    Survived      Pclass  ...       SibSp       Parch        Fare\n",
              "count   891.000000  891.000000  891.000000  ...  891.000000  891.000000  891.000000\n",
              "mean    446.000000    0.383838    2.308642  ...    0.523008    0.381594   32.204208\n",
              "std     257.353842    0.486592    0.836071  ...    1.102743    0.806057   49.693429\n",
              "min       1.000000    0.000000    1.000000  ...    0.000000    0.000000    0.000000\n",
              "25%     223.500000    0.000000    2.000000  ...    0.000000    0.000000    7.910400\n",
              "50%     446.000000    0.000000    3.000000  ...    0.000000    0.000000   14.454200\n",
              "75%     668.500000    1.000000    3.000000  ...    1.000000    0.000000   31.000000\n",
              "max     891.000000    1.000000    3.000000  ...    8.000000    6.000000  512.329200\n",
              "\n",
              "[8 rows x 7 columns]"
            ]
          },
          "metadata": {
            "tags": []
          },
          "execution_count": 88
        }
      ]
    },
    {
      "cell_type": "code",
      "metadata": {
        "colab": {
          "base_uri": "https://localhost:8080/"
        },
        "id": "0qTz1JmGti4j",
        "outputId": "ac5979bc-4ef4-448a-8480-37e8903a035e"
      },
      "source": [
        "for col in data_train.columns:\n",
        "   if data_train[col].dtype == 'object':\n",
        "     print(\"---------------------\")\n",
        "     print(col) \n",
        "     print(data_train[col].value_counts())"
      ],
      "execution_count": null,
      "outputs": [
        {
          "output_type": "stream",
          "text": [
            "---------------------\n",
            "Name\n",
            "Kassem, Mr. Fared             1\n",
            "Flynn, Mr. John               1\n",
            "Carter, Miss. Lucile Polk     1\n",
            "Dorking, Mr. Edward Arthur    1\n",
            "O'Brien, Mr. Thomas           1\n",
            "                             ..\n",
            "Dimic, Mr. Jovan              1\n",
            "Ali, Mr. William              1\n",
            "Rice, Master. George Hugh     1\n",
            "Beane, Mr. Edward             1\n",
            "White, Mr. Richard Frasar     1\n",
            "Name: Name, Length: 891, dtype: int64\n",
            "---------------------\n",
            "Sex\n",
            "male      577\n",
            "female    314\n",
            "Name: Sex, dtype: int64\n",
            "---------------------\n",
            "Ticket\n",
            "1601                7\n",
            "347082              7\n",
            "CA. 2343            7\n",
            "CA 2144             6\n",
            "3101295             6\n",
            "                   ..\n",
            "SC/PARIS 2131       1\n",
            "345777              1\n",
            "111427              1\n",
            "SOTON/OQ 3101317    1\n",
            "13049               1\n",
            "Name: Ticket, Length: 681, dtype: int64\n",
            "---------------------\n",
            "Cabin\n",
            "G6             4\n",
            "B96 B98        4\n",
            "C23 C25 C27    4\n",
            "E101           3\n",
            "C22 C26        3\n",
            "              ..\n",
            "D21            1\n",
            "E77            1\n",
            "A34            1\n",
            "D9             1\n",
            "C103           1\n",
            "Name: Cabin, Length: 147, dtype: int64\n",
            "---------------------\n",
            "Embarked\n",
            "S    644\n",
            "C    168\n",
            "Q     77\n",
            "Name: Embarked, dtype: int64\n"
          ],
          "name": "stdout"
        }
      ]
    },
    {
      "cell_type": "code",
      "metadata": {
        "colab": {
          "base_uri": "https://localhost:8080/",
          "height": 173
        },
        "id": "iurJpAFFtiyu",
        "outputId": "3e592909-4fdb-406c-9439-445034002e9d"
      },
      "source": [
        "data_train.groupby(by=['Embarked']).agg(survived=('Survived','mean'),fare=('Fare','mean'),age=('Age','mean'),age_median=('Age','median'))"
      ],
      "execution_count": null,
      "outputs": [
        {
          "output_type": "execute_result",
          "data": {
            "text/html": [
              "<div>\n",
              "<style scoped>\n",
              "    .dataframe tbody tr th:only-of-type {\n",
              "        vertical-align: middle;\n",
              "    }\n",
              "\n",
              "    .dataframe tbody tr th {\n",
              "        vertical-align: top;\n",
              "    }\n",
              "\n",
              "    .dataframe thead th {\n",
              "        text-align: right;\n",
              "    }\n",
              "</style>\n",
              "<table border=\"1\" class=\"dataframe\">\n",
              "  <thead>\n",
              "    <tr style=\"text-align: right;\">\n",
              "      <th></th>\n",
              "      <th>survived</th>\n",
              "      <th>fare</th>\n",
              "      <th>age</th>\n",
              "      <th>age_median</th>\n",
              "    </tr>\n",
              "    <tr>\n",
              "      <th>Embarked</th>\n",
              "      <th></th>\n",
              "      <th></th>\n",
              "      <th></th>\n",
              "      <th></th>\n",
              "    </tr>\n",
              "  </thead>\n",
              "  <tbody>\n",
              "    <tr>\n",
              "      <th>C</th>\n",
              "      <td>0.553571</td>\n",
              "      <td>59.954144</td>\n",
              "      <td>30.814769</td>\n",
              "      <td>29.0</td>\n",
              "    </tr>\n",
              "    <tr>\n",
              "      <th>Q</th>\n",
              "      <td>0.389610</td>\n",
              "      <td>13.276030</td>\n",
              "      <td>28.089286</td>\n",
              "      <td>27.0</td>\n",
              "    </tr>\n",
              "    <tr>\n",
              "      <th>S</th>\n",
              "      <td>0.336957</td>\n",
              "      <td>27.079812</td>\n",
              "      <td>29.445397</td>\n",
              "      <td>28.0</td>\n",
              "    </tr>\n",
              "  </tbody>\n",
              "</table>\n",
              "</div>"
            ],
            "text/plain": [
              "          survived       fare        age  age_median\n",
              "Embarked                                            \n",
              "C         0.553571  59.954144  30.814769        29.0\n",
              "Q         0.389610  13.276030  28.089286        27.0\n",
              "S         0.336957  27.079812  29.445397        28.0"
            ]
          },
          "metadata": {
            "tags": []
          },
          "execution_count": 99
        }
      ]
    },
    {
      "cell_type": "code",
      "metadata": {
        "colab": {
          "base_uri": "https://localhost:8080/",
          "height": 266
        },
        "id": "zq-9YX2atiUn",
        "outputId": "a609cb02-6f9c-410a-d2ea-31b38c38b3d4"
      },
      "source": [
        "data_train.groupby(by=['Embarked','Sex']).agg(survived=('Survived','mean'))"
      ],
      "execution_count": null,
      "outputs": [
        {
          "output_type": "execute_result",
          "data": {
            "text/html": [
              "<div>\n",
              "<style scoped>\n",
              "    .dataframe tbody tr th:only-of-type {\n",
              "        vertical-align: middle;\n",
              "    }\n",
              "\n",
              "    .dataframe tbody tr th {\n",
              "        vertical-align: top;\n",
              "    }\n",
              "\n",
              "    .dataframe thead th {\n",
              "        text-align: right;\n",
              "    }\n",
              "</style>\n",
              "<table border=\"1\" class=\"dataframe\">\n",
              "  <thead>\n",
              "    <tr style=\"text-align: right;\">\n",
              "      <th></th>\n",
              "      <th></th>\n",
              "      <th>survived</th>\n",
              "    </tr>\n",
              "    <tr>\n",
              "      <th>Embarked</th>\n",
              "      <th>Sex</th>\n",
              "      <th></th>\n",
              "    </tr>\n",
              "  </thead>\n",
              "  <tbody>\n",
              "    <tr>\n",
              "      <th rowspan=\"2\" valign=\"top\">C</th>\n",
              "      <th>female</th>\n",
              "      <td>0.876712</td>\n",
              "    </tr>\n",
              "    <tr>\n",
              "      <th>male</th>\n",
              "      <td>0.305263</td>\n",
              "    </tr>\n",
              "    <tr>\n",
              "      <th rowspan=\"2\" valign=\"top\">Q</th>\n",
              "      <th>female</th>\n",
              "      <td>0.750000</td>\n",
              "    </tr>\n",
              "    <tr>\n",
              "      <th>male</th>\n",
              "      <td>0.073171</td>\n",
              "    </tr>\n",
              "    <tr>\n",
              "      <th rowspan=\"2\" valign=\"top\">S</th>\n",
              "      <th>female</th>\n",
              "      <td>0.689655</td>\n",
              "    </tr>\n",
              "    <tr>\n",
              "      <th>male</th>\n",
              "      <td>0.174603</td>\n",
              "    </tr>\n",
              "  </tbody>\n",
              "</table>\n",
              "</div>"
            ],
            "text/plain": [
              "                 survived\n",
              "Embarked Sex             \n",
              "C        female  0.876712\n",
              "         male    0.305263\n",
              "Q        female  0.750000\n",
              "         male    0.073171\n",
              "S        female  0.689655\n",
              "         male    0.174603"
            ]
          },
          "metadata": {
            "tags": []
          },
          "execution_count": 100
        }
      ]
    },
    {
      "cell_type": "code",
      "metadata": {
        "colab": {
          "base_uri": "https://localhost:8080/",
          "height": 142
        },
        "id": "9bWpx2pitohh",
        "outputId": "38b02f20-eaf7-449a-81cc-7d95a5b89b8c"
      },
      "source": [
        "data_train.groupby(by=['Sex']).agg(survived=('Survived','mean'))"
      ],
      "execution_count": null,
      "outputs": [
        {
          "output_type": "execute_result",
          "data": {
            "text/html": [
              "<div>\n",
              "<style scoped>\n",
              "    .dataframe tbody tr th:only-of-type {\n",
              "        vertical-align: middle;\n",
              "    }\n",
              "\n",
              "    .dataframe tbody tr th {\n",
              "        vertical-align: top;\n",
              "    }\n",
              "\n",
              "    .dataframe thead th {\n",
              "        text-align: right;\n",
              "    }\n",
              "</style>\n",
              "<table border=\"1\" class=\"dataframe\">\n",
              "  <thead>\n",
              "    <tr style=\"text-align: right;\">\n",
              "      <th></th>\n",
              "      <th>survived</th>\n",
              "    </tr>\n",
              "    <tr>\n",
              "      <th>Sex</th>\n",
              "      <th></th>\n",
              "    </tr>\n",
              "  </thead>\n",
              "  <tbody>\n",
              "    <tr>\n",
              "      <th>female</th>\n",
              "      <td>0.742038</td>\n",
              "    </tr>\n",
              "    <tr>\n",
              "      <th>male</th>\n",
              "      <td>0.188908</td>\n",
              "    </tr>\n",
              "  </tbody>\n",
              "</table>\n",
              "</div>"
            ],
            "text/plain": [
              "        survived\n",
              "Sex             \n",
              "female  0.742038\n",
              "male    0.188908"
            ]
          },
          "metadata": {
            "tags": []
          },
          "execution_count": 102
        }
      ]
    },
    {
      "cell_type": "code",
      "metadata": {
        "colab": {
          "base_uri": "https://localhost:8080/",
          "height": 142
        },
        "id": "X0UJtvp9J3_Z",
        "outputId": "a286aa6b-5e79-4401-d498-183511507316"
      },
      "source": [
        "data_train.groupby(by=['Survived']).agg(age=('Age','mean'),age_median=('Age','max'))"
      ],
      "execution_count": null,
      "outputs": [
        {
          "output_type": "execute_result",
          "data": {
            "text/html": [
              "<div>\n",
              "<style scoped>\n",
              "    .dataframe tbody tr th:only-of-type {\n",
              "        vertical-align: middle;\n",
              "    }\n",
              "\n",
              "    .dataframe tbody tr th {\n",
              "        vertical-align: top;\n",
              "    }\n",
              "\n",
              "    .dataframe thead th {\n",
              "        text-align: right;\n",
              "    }\n",
              "</style>\n",
              "<table border=\"1\" class=\"dataframe\">\n",
              "  <thead>\n",
              "    <tr style=\"text-align: right;\">\n",
              "      <th></th>\n",
              "      <th>age</th>\n",
              "      <th>age_median</th>\n",
              "    </tr>\n",
              "    <tr>\n",
              "      <th>Survived</th>\n",
              "      <th></th>\n",
              "      <th></th>\n",
              "    </tr>\n",
              "  </thead>\n",
              "  <tbody>\n",
              "    <tr>\n",
              "      <th>0</th>\n",
              "      <td>30.626179</td>\n",
              "      <td>74.0</td>\n",
              "    </tr>\n",
              "    <tr>\n",
              "      <th>1</th>\n",
              "      <td>28.343690</td>\n",
              "      <td>80.0</td>\n",
              "    </tr>\n",
              "  </tbody>\n",
              "</table>\n",
              "</div>"
            ],
            "text/plain": [
              "                age  age_median\n",
              "Survived                       \n",
              "0         30.626179        74.0\n",
              "1         28.343690        80.0"
            ]
          },
          "metadata": {
            "tags": []
          },
          "execution_count": 105
        }
      ]
    },
    {
      "cell_type": "code",
      "metadata": {
        "colab": {
          "base_uri": "https://localhost:8080/"
        },
        "id": "gyYtNkUdtoyp",
        "outputId": "70d6ca69-b150-450c-fd96-e3df99a01f3b"
      },
      "source": [
        "data_train['Name'].head(5)"
      ],
      "execution_count": null,
      "outputs": [
        {
          "output_type": "execute_result",
          "data": {
            "text/plain": [
              "0                              Braund, Mr. Owen Harris\n",
              "1    Cumings, Mrs. John Bradley (Florence Briggs Th...\n",
              "2                               Heikkinen, Miss. Laina\n",
              "3         Futrelle, Mrs. Jacques Heath (Lily May Peel)\n",
              "4                             Allen, Mr. William Henry\n",
              "Name: Name, dtype: object"
            ]
          },
          "metadata": {
            "tags": []
          },
          "execution_count": 107
        }
      ]
    },
    {
      "cell_type": "code",
      "metadata": {
        "id": "6SFPaPOTKYBv"
      },
      "source": [
        "x = 'Braund, Mr. Owen Harris'"
      ],
      "execution_count": null,
      "outputs": []
    },
    {
      "cell_type": "code",
      "metadata": {
        "colab": {
          "base_uri": "https://localhost:8080/",
          "height": 35
        },
        "id": "hYAMxy2Qto71",
        "outputId": "6e3040a0-9607-4c3c-b408-9ff202ff50ae"
      },
      "source": [
        "x.split(', ')[0]"
      ],
      "execution_count": null,
      "outputs": [
        {
          "output_type": "execute_result",
          "data": {
            "application/vnd.google.colaboratory.intrinsic+json": {
              "type": "string"
            },
            "text/plain": [
              "'Braund'"
            ]
          },
          "metadata": {
            "tags": []
          },
          "execution_count": 111
        }
      ]
    },
    {
      "cell_type": "code",
      "metadata": {
        "id": "IklPM_o7KmOY"
      },
      "source": [
        "def get_surname(x):\n",
        "  return x.split(', ')[0]"
      ],
      "execution_count": null,
      "outputs": []
    },
    {
      "cell_type": "code",
      "metadata": {
        "colab": {
          "base_uri": "https://localhost:8080/"
        },
        "id": "JmepUZiVKsz0",
        "outputId": "aefcde0e-5a73-4e59-d149-46d2215e26a9"
      },
      "source": [
        "data_train['Name'].apply(get_surname)"
      ],
      "execution_count": null,
      "outputs": [
        {
          "output_type": "execute_result",
          "data": {
            "text/plain": [
              "0         Braund\n",
              "1        Cumings\n",
              "2      Heikkinen\n",
              "3       Futrelle\n",
              "4          Allen\n",
              "         ...    \n",
              "886     Montvila\n",
              "887       Graham\n",
              "888     Johnston\n",
              "889         Behr\n",
              "890       Dooley\n",
              "Name: Name, Length: 891, dtype: object"
            ]
          },
          "metadata": {
            "tags": []
          },
          "execution_count": 114
        }
      ]
    },
    {
      "cell_type": "code",
      "metadata": {
        "id": "PCAGYGwWK5Nm"
      },
      "source": [
        "data_train['surname'] = data_train['Name'].apply(get_surname)"
      ],
      "execution_count": null,
      "outputs": []
    },
    {
      "cell_type": "code",
      "metadata": {
        "colab": {
          "base_uri": "https://localhost:8080/"
        },
        "id": "YL2rSQAfK9wM",
        "outputId": "78fe4b22-b386-44c2-dcab-b0382da0d62c"
      },
      "source": [
        "data_train['surname'].value_counts()"
      ],
      "execution_count": null,
      "outputs": [
        {
          "output_type": "execute_result",
          "data": {
            "text/plain": [
              "Andersson      9\n",
              "Sage           7\n",
              "Carter         6\n",
              "Panula         6\n",
              "Johnson        6\n",
              "              ..\n",
              "Troupiansky    1\n",
              "Hodges         1\n",
              "Cherry         1\n",
              "Gilnagh        1\n",
              "Christmann     1\n",
              "Name: surname, Length: 667, dtype: int64"
            ]
          },
          "metadata": {
            "tags": []
          },
          "execution_count": 117
        }
      ]
    },
    {
      "cell_type": "code",
      "metadata": {
        "colab": {
          "base_uri": "https://localhost:8080/"
        },
        "id": "iS7AQIA9LNPf",
        "outputId": "5e488e43-2569-4476-9ba9-37b3deb824db"
      },
      "source": [
        "data_train['Name'].apply(lambda x:  x.split(', ')[0])"
      ],
      "execution_count": null,
      "outputs": [
        {
          "output_type": "execute_result",
          "data": {
            "text/plain": [
              "0         Braund\n",
              "1        Cumings\n",
              "2      Heikkinen\n",
              "3       Futrelle\n",
              "4          Allen\n",
              "         ...    \n",
              "886     Montvila\n",
              "887       Graham\n",
              "888     Johnston\n",
              "889         Behr\n",
              "890       Dooley\n",
              "Name: Name, Length: 891, dtype: object"
            ]
          },
          "metadata": {
            "tags": []
          },
          "execution_count": 118
        }
      ]
    },
    {
      "cell_type": "code",
      "metadata": {
        "id": "hV_zP-MKtXmq"
      },
      "source": [
        ""
      ],
      "execution_count": null,
      "outputs": []
    },
    {
      "cell_type": "markdown",
      "metadata": {
        "id": "iRKL_OqmtZ0d"
      },
      "source": [
        "# Numba"
      ]
    },
    {
      "cell_type": "code",
      "metadata": {
        "id": "vG8DI97wLwl8"
      },
      "source": [
        "'MM:SS'\n",
        "'15:31'\n",
        "\n",
        "\n",
        "'15,31'\n",
        "'15 min 31 seg'\n"
      ],
      "execution_count": null,
      "outputs": []
    },
    {
      "cell_type": "code",
      "metadata": {
        "id": "u-jkwmqPMVZG"
      },
      "source": [
        ""
      ],
      "execution_count": null,
      "outputs": []
    },
    {
      "cell_type": "markdown",
      "metadata": {
        "id": "Zf0ZOvLyMWBP"
      },
      "source": [
        "Dado $N$, calcular una lista con $i^2$ para $0\\leq i < N$"
      ]
    },
    {
      "cell_type": "code",
      "metadata": {
        "id": "Pau3OpZSEIN-"
      },
      "source": [
        "import time"
      ],
      "execution_count": null,
      "outputs": []
    },
    {
      "cell_type": "code",
      "metadata": {
        "id": "LLb98LW6EQMQ"
      },
      "source": [
        "N=100000000"
      ],
      "execution_count": null,
      "outputs": []
    },
    {
      "cell_type": "code",
      "metadata": {
        "colab": {
          "base_uri": "https://localhost:8080/"
        },
        "id": "dRvA8PXqC15t",
        "outputId": "541cdc1c-dc8a-4e3a-fe29-55f265b6adf6"
      },
      "source": [
        "start = time.time()\n",
        "ans = [x*x for x in range(N)]\n",
        "end = time.time()\n",
        "print(end-start)"
      ],
      "execution_count": null,
      "outputs": [
        {
          "output_type": "stream",
          "text": [
            "12.598469018936157\n"
          ],
          "name": "stdout"
        }
      ]
    },
    {
      "cell_type": "code",
      "metadata": {
        "colab": {
          "base_uri": "https://localhost:8080/"
        },
        "id": "ARx1cuU9DJnL",
        "outputId": "6e76b9f9-7a0e-4dbe-9e02-a414ec4a48c0"
      },
      "source": [
        "start = time.time()\n",
        "ans = []\n",
        "for x in range(N):\n",
        "  ans.append(x*x)\n",
        "end = time.time()\n",
        "print(end-start)"
      ],
      "execution_count": null,
      "outputs": [
        {
          "output_type": "stream",
          "text": [
            "22.766599416732788\n"
          ],
          "name": "stdout"
        }
      ]
    },
    {
      "cell_type": "code",
      "metadata": {
        "colab": {
          "base_uri": "https://localhost:8080/"
        },
        "id": "MpxNTS-gEaB1",
        "outputId": "93d77595-970f-421b-fab7-d34910612ab6"
      },
      "source": [
        "from numba import jit\n",
        "import numpy as np\n",
        "import time\n",
        "\n",
        "x = np.arange(100).reshape(10, 10)\n",
        "\n",
        "@jit(nopython=True)\n",
        "def go_fast(a): # Function is compiled and runs in machine code\n",
        "    trace = 0.0\n",
        "    for i in range(a.shape[0]):\n",
        "        trace += np.tanh(a[i, i])\n",
        "    return a + trace\n",
        "\n",
        "# DO NOT REPORT THIS... COMPILATION TIME IS INCLUDED IN THE EXECUTION TIME!\n",
        "start = time.time()\n",
        "go_fast(x)\n",
        "end = time.time()\n",
        "print(\"Elapsed (with compilation) = %s\" % (end - start))\n",
        "\n",
        "# NOW THE FUNCTION IS COMPILED, RE-TIME IT EXECUTING FROM CACHE\n",
        "start = time.time()\n",
        "go_fast(x)\n",
        "end = time.time()\n",
        "print(\"Elapsed (after compilation) = %s\" % (end - start))"
      ],
      "execution_count": null,
      "outputs": [
        {
          "output_type": "stream",
          "text": [
            "Elapsed (with compilation) = 0.47987890243530273\n",
            "Elapsed (after compilation) = 5.4836273193359375e-05\n"
          ],
          "name": "stdout"
        }
      ]
    },
    {
      "cell_type": "code",
      "metadata": {
        "colab": {
          "base_uri": "https://localhost:8080/"
        },
        "id": "g_YtkQiPGM7B",
        "outputId": "4211772b-34b3-4d64-dfb7-b65ffd064fad"
      },
      "source": [
        "from numba import jit\n",
        "import numpy as np\n",
        "import time\n",
        "\n",
        "N=100000000\n",
        "\n",
        "def go_normal(a): \n",
        "    ans = []\n",
        "    for x in range(a):\n",
        "      ans.append(x*x)\n",
        "    return ans\n",
        "\n",
        "@jit(nopython=True)\n",
        "def go_fast(a): # Function is compiled and runs in machine code\n",
        "    ans = []\n",
        "    for x in range(a):\n",
        "      ans.append(x*x)\n",
        "    return ans\n",
        "# NOW THE FUNCTION IS COMPILED, RE-TIME IT EXECUTING FROM CACHE\n",
        "start = time.time()\n",
        "go_normal(N)\n",
        "end = time.time()\n",
        "print(\"Elapsed normal = %s\" % (end - start))\n",
        "\n",
        "\n",
        "# DO NOT REPORT THIS... COMPILATION TIME IS INCLUDED IN THE EXECUTION TIME!\n",
        "start = time.time()\n",
        "go_fast(N)\n",
        "end = time.time()\n",
        "print(\"Elapsed (with compilation) = %s\" % (end - start))\n",
        "\n",
        "# NOW THE FUNCTION IS COMPILED, RE-TIME IT EXECUTING FROM CACHE\n",
        "start = time.time()\n",
        "go_fast(N)\n",
        "end = time.time()\n",
        "print(\"Elapsed (after compilation) = %s\" % (end - start))"
      ],
      "execution_count": null,
      "outputs": [
        {
          "output_type": "stream",
          "text": [
            "Elapsed normal = 15.78842806816101\n",
            "Elapsed (with compilation) = 8.725073337554932\n",
            "Elapsed (after compilation) = 7.613173484802246\n"
          ],
          "name": "stdout"
        }
      ]
    },
    {
      "cell_type": "code",
      "metadata": {
        "colab": {
          "base_uri": "https://localhost:8080/"
        },
        "id": "HKAnTI6MG3ti",
        "outputId": "00c7a28f-868c-4fde-abcc-41af0e7ccc36"
      },
      "source": [
        "# NOW THE FUNCTION IS COMPILED, RE-TIME IT EXECUTING FROM CACHE\n",
        "start = time.time()\n",
        "go_fast(N)\n",
        "end = time.time()\n",
        "print(\"Elapsed (after compilation) = %s\" % (end - start))"
      ],
      "execution_count": null,
      "outputs": [
        {
          "output_type": "stream",
          "text": [
            "Elapsed (after compilation) = 7.6025025844573975\n"
          ],
          "name": "stdout"
        }
      ]
    },
    {
      "cell_type": "code",
      "metadata": {
        "id": "-8G_ixbOpVs_"
      },
      "source": [
        ""
      ],
      "execution_count": null,
      "outputs": []
    }
  ]
}